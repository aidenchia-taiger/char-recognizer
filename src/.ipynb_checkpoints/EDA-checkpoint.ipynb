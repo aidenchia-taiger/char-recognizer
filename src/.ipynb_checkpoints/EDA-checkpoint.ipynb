{
 "cells": [
  {
   "cell_type": "markdown",
   "metadata": {},
   "source": [
    "## Data Visualisation"
   ]
  },
  {
   "cell_type": "code",
   "execution_count": 1,
   "metadata": {},
   "outputs": [],
   "source": [
    "import os\n",
    "import cv2\n",
    "import matplotlib.pyplot as plt\n",
    "from Utils import display, save\n",
    "from random import randint, shuffle"
   ]
  },
  {
   "cell_type": "code",
   "execution_count": 2,
   "metadata": {},
   "outputs": [],
   "source": [
    "def getAllFiles(src):\n",
    "    allFiles = []\n",
    "    for root, _, files in os.walk(src):\n",
    "        for file in files:\n",
    "            if '.png' in file:\n",
    "                allFiles.append(file)\n",
    "    \n",
    "    return allFiles"
   ]
  },
  {
   "cell_type": "code",
   "execution_count": 7,
   "metadata": {},
   "outputs": [],
   "source": [
    "def displayRandomImgs():\n",
    "    subfolders = os.listdir('../imgs/train')\n",
    "    src = os.path.join('../imgs/train', subfolders[randint(0, len(subfolders))])\n",
    "    allFiles = getAllFiles(src)\n",
    "    shuffle(allFiles)\n",
    "    imgs = [cv2.imread(os.path.join(src, allFiles[i])) for i in range(10)]\n",
    "    print('Class Label: {}'.format(src.split('/')[-1]))\n",
    "    display(imgs, multiple=True, rows=3, cols=3)"
   ]
  },
  {
   "cell_type": "code",
   "execution_count": 9,
   "metadata": {},
   "outputs": [
    {
     "name": "stdout",
     "output_type": "stream",
     "text": [
      "Class Label: a\n"
     ]
    },
    {
     "data": {
      "image/png": "[encoded data removed]",
      "text/plain": [
       "<Figure size 576x576 with 9 Axes>"
      ]
     },
     "metadata": {
      "needs_background": "light"
     },
     "output_type": "display_data"
    }
   ],
   "source": [
    "displayRandomImgs()"
   ]
  },
  {
   "cell_type": "code",
   "execution_count": 12,
   "metadata": {},
   "outputs": [],
   "source": [
    "def getStats(folder):\n",
    "    if folder == 'train':\n",
    "        folder = '../imgs/train'\n",
    "    elif folder == 'test':\n",
    "        folder = '../imgs/test'\n",
    "        \n",
    "    print('[INFO] Total No. of Classes {}'.format(len(os.listdir(folder))))\n",
    "    totalNum = len(getAllFiles(folder))\n",
    "    print('[INFO] Total No. of Files: {}\\n'.format(totalNum))\n",
    "    \n",
    "    lenFiles = {}\n",
    "    for subfolder in os.listdir(folder):\n",
    "        src = os.path.join(folder, subfolder)\n",
    "        numFiles = len(getAllFiles(src))\n",
    "        lenFiles[subfolder] = numFiles\n",
    "        print('[INFO] Class {} has {} files'.format(subfolder, numFiles))\n",
    "        \n",
    "    return lenFiles"
   ]
  },
  {
   "cell_type": "code",
   "execution_count": 13,
   "metadata": {},
   "outputs": [
    {
     "name": "stdout",
     "output_type": "stream",
     "text": [
      "[INFO] Total No. of Classes 54\n",
      "[INFO] Total No. of Files: 197397\n",
      "\n",
      "[INFO] Class $ has 16199 files\n",
      "[INFO] Class ) has 359 files\n",
      "[INFO] Class L has 2455 files\n",
      "[INFO] Class & has 13000 files\n",
      "[INFO] Class H has 2455 files\n",
      "[INFO] Class N has 2455 files\n",
      "[INFO] Class 2 has 2455 files\n",
      "[INFO] Class I has 2455 files\n",
      "[INFO] Class D has 2455 files\n",
      "[INFO] Class b has 2455 files\n",
      "[INFO] Class 1 has 2455 files\n",
      "[INFO] Class f has 2455 files\n",
      "[INFO] Class J has 2510 files\n",
      "[INFO] Class E has 2455 files\n",
      "[INFO] Class Y has 2510 files\n",
      "[INFO] Class h has 2455 files\n",
      "[INFO] Class e has 2400 files\n",
      "[INFO] Class 7 has 2400 files\n",
      "[INFO] Class @ has 38009 files\n",
      "[INFO] Class C has 2400 files\n",
      "[INFO] Class r has 2400 files\n",
      "[INFO] Class # has 15600 files\n",
      "[INFO] Class F has 2400 files\n",
      "[INFO] Class q has 2400 files\n",
      "[INFO] Class X has 2400 files\n",
      "[INFO] Class P has 2400 files\n",
      "[INFO] Class ( has 346 files\n",
      "[INFO] Class 0 has 2400 files\n",
      "[INFO] Class A has 2400 files\n",
      "[INFO] Class 6 has 2400 files\n",
      "[INFO] Class O has 2400 files\n",
      "[INFO] Class W has 2400 files\n",
      "[INFO] Class U has 2400 files\n",
      "[INFO] Class T has 2400 files\n",
      "[INFO] Class 9 has 2400 files\n",
      "[INFO] Class M has 2400 files\n",
      "[INFO] Class R has 2400 files\n",
      "[INFO] Class V has 2400 files\n",
      "[INFO] Class G has 2400 files\n",
      "[INFO] Class B has 2400 files\n",
      "[INFO] Class 5 has 2400 files\n",
      "[INFO] Class t has 2400 files\n",
      "[INFO] Class 3 has 2400 files\n",
      "[INFO] Class 8 has 2400 files\n",
      "[INFO] Class a has 2400 files\n",
      "[INFO] Class 4 has 2400 files\n",
      "[INFO] Class slash has 259 files\n",
      "[INFO] Class Z has 2400 files\n",
      "[INFO] Class Q has 2400 files\n",
      "[INFO] Class n has 2400 files\n",
      "[INFO] Class K has 2400 files\n",
      "[INFO] Class g has 2400 files\n",
      "[INFO] Class d has 2400 files\n",
      "[INFO] Class S has 2400 files\n"
     ]
    },
    {
     "data": {
      "image/png": "[encoded data removed]",
      "text/plain": [
       "<Figure size 648x432 with 1 Axes>"
      ]
     },
     "metadata": {
      "needs_background": "light"
     },
     "output_type": "display_data"
    }
   ],
   "source": [
    "lenFiles = getStats()\n",
    "plt.bar(range(len(lenFiles)), list(lenFiles.values()), align='center')\n",
    "plt.xticks(range(len(lenFiles)), list(lenFiles.keys()))\n",
    "plt.show()"
   ]
  },
  {
   "cell_type": "code",
   "execution_count": null,
   "metadata": {},
   "outputs": [],
   "source": []
  }
 ],
 "metadata": {
  "kernelspec": {
   "display_name": "Python 3",
   "language": "python",
   "name": "python3"
  },
  "language_info": {
   "codemirror_mode": {
    "name": "ipython",
    "version": 3
   },
   "file_extension": ".py",
   "mimetype": "text/x-python",
   "name": "python",
   "nbconvert_exporter": "python",
   "pygments_lexer": "ipython3",
   "version": "3.5.2"
  }
 },
 "nbformat": 4,
 "nbformat_minor": 2
}
