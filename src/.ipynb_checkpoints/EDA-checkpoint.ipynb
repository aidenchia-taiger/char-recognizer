{
 "cells": [
  {
   "cell_type": "markdown",
   "metadata": {},
   "source": [
    "## Data Visualisation"
   ]
  },
  {
   "cell_type": "code",
   "execution_count": 10,
   "metadata": {},
   "outputs": [],
   "source": [
    "import os\n",
    "import cv2\n",
    "import numpy as np\n",
    "import matplotlib.pyplot as plt\n",
    "from Utils import display, save\n",
    "from random import randint, shuffle\n",
    "import keras\n",
    "from keras.preprocessing.image import ImageDataGenerator"
   ]
  },
  {
   "cell_type": "code",
   "execution_count": 20,
   "metadata": {},
   "outputs": [],
   "source": [
    "def getAllFiles(src):\n",
    "    allFiles = []\n",
    "    for root, _, files in os.walk(src):\n",
    "        for file in files:\n",
    "            if '.png' in file:\n",
    "                allFiles.append(file)\n",
    "    \n",
    "    return allFiles"
   ]
  },
  {
   "cell_type": "code",
   "execution_count": 21,
   "metadata": {},
   "outputs": [],
   "source": [
    "def displayRandomImgs():\n",
    "    subfolders = os.listdir('../imgs/train')\n",
    "    src = os.path.join('../imgs/train', subfolders[randint(0, len(subfolders))])\n",
    "    allFiles = getAllFiles(src)\n",
    "    shuffle(allFiles)\n",
    "    imgs = [cv2.imread(os.path.join(src, allFiles[i])) for i in range(10)]\n",
    "    print(np.unique(imgs[0]))\n",
    "    print('Class Label: {}'.format(src.split('/')[-1]))\n",
    "    display(imgs, multiple=True, rows=3, cols=3)"
   ]
  },
  {
   "cell_type": "code",
   "execution_count": 22,
   "metadata": {},
   "outputs": [
    {
     "name": "stdout",
     "output_type": "stream",
     "text": [
      "[  0 255]\n",
      "Class Label: 0\n"
     ]
    },
    {
     "data": {
      "image/png": "[encoded data removed]",
      "text/plain": [
       "<Figure size 576x576 with 9 Axes>"
      ]
     },
     "metadata": {
      "needs_background": "light"
     },
     "output_type": "display_data"
    }
   ],
   "source": [
    "displayRandomImgs()"
   ]
  },
  {
   "cell_type": "code",
   "execution_count": 33,
   "metadata": {},
   "outputs": [],
   "source": [
    "def getStats(folder):\n",
    "    if folder == 'train':\n",
    "        folder = '../imgs/train'\n",
    "    elif folder == 'test':\n",
    "        folder = '../imgs/test'\n",
    "        \n",
    "    print('[INFO] Total No. of Classes {}'.format(len(os.listdir(folder))))\n",
    "    print(os.listdir(folder))\n",
    "    totalNum = len(getAllFiles(folder))\n",
    "    print('[INFO] Total No. of Files: {}\\n'.format(totalNum))\n",
    "    \n",
    "    lenFiles = {}\n",
    "    for subfolder in os.listdir(folder):\n",
    "        src = os.path.join(folder, subfolder)\n",
    "        numFiles = len(getAllFiles(src))\n",
    "        lenFiles[subfolder] = numFiles\n",
    "        print('[INFO] Class {} has {} files'.format(subfolder, numFiles))\n",
    "        \n",
    "    return lenFiles"
   ]
  },
  {
   "cell_type": "code",
   "execution_count": 42,
   "metadata": {},
   "outputs": [
    {
     "name": "stdout",
     "output_type": "stream",
     "text": [
      "[INFO] Total No. of Classes 53\n",
      "['$', ')', 'L', 'H', 'N', '2', 'I', 'D', 'b', '1', 'f', 'J', 'E', 'Y', 'h', 'e', '7', '@', 'C', 'r', '#', 'F', 'q', 'X', 'P', '(', '0', 'A', '6', 'O', 'W', 'U', 'T', '9', 'M', 'R', 'V', 'G', 'B', '5', 't', '3', '8', 'a', '4', 'slash', 'Z', 'Q', 'n', 'K', 'g', 'd', 'S']\n",
      "[INFO] Total No. of Files: 121695\n",
      "\n",
      "[INFO] Class $ has 2400 files\n",
      "[INFO] Class ) has 324 files\n",
      "[INFO] Class L has 2455 files\n",
      "[INFO] Class H has 2455 files\n",
      "[INFO] Class N has 2455 files\n",
      "[INFO] Class 2 has 2455 files\n",
      "[INFO] Class I has 2455 files\n",
      "[INFO] Class D has 2455 files\n",
      "[INFO] Class b has 2455 files\n",
      "[INFO] Class 1 has 2455 files\n",
      "[INFO] Class f has 2455 files\n",
      "[INFO] Class J has 2510 files\n",
      "[INFO] Class E has 2455 files\n",
      "[INFO] Class Y has 2510 files\n",
      "[INFO] Class h has 2455 files\n",
      "[INFO] Class e has 2400 files\n",
      "[INFO] Class 7 has 2400 files\n",
      "[INFO] Class @ has 2400 files\n",
      "[INFO] Class C has 2400 files\n",
      "[INFO] Class r has 2400 files\n",
      "[INFO] Class # has 2400 files\n",
      "[INFO] Class F has 2400 files\n",
      "[INFO] Class q has 2400 files\n",
      "[INFO] Class X has 2400 files\n",
      "[INFO] Class P has 2400 files\n",
      "[INFO] Class ( has 312 files\n",
      "[INFO] Class 0 has 2400 files\n",
      "[INFO] Class A has 2400 files\n",
      "[INFO] Class 6 has 2400 files\n",
      "[INFO] Class O has 2400 files\n",
      "[INFO] Class W has 2400 files\n",
      "[INFO] Class U has 2400 files\n",
      "[INFO] Class T has 2400 files\n",
      "[INFO] Class 9 has 2400 files\n",
      "[INFO] Class M has 2400 files\n",
      "[INFO] Class R has 2400 files\n",
      "[INFO] Class V has 2400 files\n",
      "[INFO] Class G has 2400 files\n",
      "[INFO] Class B has 2400 files\n",
      "[INFO] Class 5 has 2400 files\n",
      "[INFO] Class t has 2400 files\n",
      "[INFO] Class 3 has 2400 files\n",
      "[INFO] Class 8 has 2400 files\n",
      "[INFO] Class a has 2400 files\n",
      "[INFO] Class 4 has 2400 files\n",
      "[INFO] Class slash has 234 files\n",
      "[INFO] Class Z has 2400 files\n",
      "[INFO] Class Q has 2400 files\n",
      "[INFO] Class n has 2400 files\n",
      "[INFO] Class K has 2400 files\n",
      "[INFO] Class g has 2400 files\n",
      "[INFO] Class d has 2400 files\n",
      "[INFO] Class S has 2400 files\n"
     ]
    },
    {
     "data": {
      "image/png": "[encoded data removed]",
      "text/plain": [
       "<Figure size 720x720 with 1 Axes>"
      ]
     },
     "metadata": {
      "needs_background": "light"
     },
     "output_type": "display_data"
    }
   ],
   "source": [
    "lenFiles = getStats('train')\n",
    "plt.figure(figsize=(10,10))\n",
    "plt.bar(range(len(lenFiles)), list(lenFiles.values()), align='center')\n",
    "plt.xticks(range(len(lenFiles)), list(lenFiles.keys()))\n",
    "plt.show()"
   ]
  },
  {
   "cell_type": "code",
   "execution_count": 27,
   "metadata": {},
   "outputs": [],
   "source": [
    "train_datagen = ImageDataGenerator(rotation_range=10, \n",
    "                                   rescale=1./255, \n",
    "                                   width_shift_range=0.2, height_shift_range=0.2,\n",
    "                                   validation_split=0.1)"
   ]
  },
  {
   "cell_type": "code",
   "execution_count": 28,
   "metadata": {},
   "outputs": [
    {
     "ename": "ValueError",
     "evalue": "Invalid subset name: train;expected \"training\" or \"validation\"",
     "output_type": "error",
     "traceback": [
      "\u001b[0;31m---------------------------------------------------------------------------\u001b[0m",
      "\u001b[0;31mValueError\u001b[0m                                Traceback (most recent call last)",
      "\u001b[0;32m<ipython-input-28-7d7124d99e03>\u001b[0m in \u001b[0;36m<module>\u001b[0;34m\u001b[0m\n\u001b[1;32m      2\u001b[0m                                                     \u001b[0mbatch_size\u001b[0m\u001b[0;34m=\u001b[0m\u001b[0;36m1\u001b[0m\u001b[0;34m,\u001b[0m \u001b[0mcolor_mode\u001b[0m\u001b[0;34m=\u001b[0m\u001b[0;34m'grayscale'\u001b[0m\u001b[0;34m,\u001b[0m\u001b[0;34m\u001b[0m\u001b[0m\n\u001b[1;32m      3\u001b[0m                                                     \u001b[0mclass_mode\u001b[0m\u001b[0;34m=\u001b[0m\u001b[0;34m'categorical'\u001b[0m\u001b[0;34m,\u001b[0m \u001b[0msubset\u001b[0m\u001b[0;34m=\u001b[0m\u001b[0;34m'train'\u001b[0m\u001b[0;34m,\u001b[0m\u001b[0;34m\u001b[0m\u001b[0m\n\u001b[0;32m----> 4\u001b[0;31m                                                     shuffle=True)\n\u001b[0m",
      "\u001b[0;32m~/Documents/handwriting-ocr/venv/lib/python3.5/site-packages/keras_preprocessing/image/image_data_generator.py\u001b[0m in \u001b[0;36mflow_from_directory\u001b[0;34m(self, directory, target_size, color_mode, classes, class_mode, batch_size, shuffle, seed, save_to_dir, save_prefix, save_format, follow_links, subset, interpolation)\u001b[0m\n\u001b[1;32m    537\u001b[0m             \u001b[0mfollow_links\u001b[0m\u001b[0;34m=\u001b[0m\u001b[0mfollow_links\u001b[0m\u001b[0;34m,\u001b[0m\u001b[0;34m\u001b[0m\u001b[0m\n\u001b[1;32m    538\u001b[0m             \u001b[0msubset\u001b[0m\u001b[0;34m=\u001b[0m\u001b[0msubset\u001b[0m\u001b[0;34m,\u001b[0m\u001b[0;34m\u001b[0m\u001b[0m\n\u001b[0;32m--> 539\u001b[0;31m             \u001b[0minterpolation\u001b[0m\u001b[0;34m=\u001b[0m\u001b[0minterpolation\u001b[0m\u001b[0;34m\u001b[0m\u001b[0m\n\u001b[0m\u001b[1;32m    540\u001b[0m         )\n\u001b[1;32m    541\u001b[0m \u001b[0;34m\u001b[0m\u001b[0m\n",
      "\u001b[0;32m~/Documents/handwriting-ocr/venv/lib/python3.5/site-packages/keras_preprocessing/image/directory_iterator.py\u001b[0m in \u001b[0;36m__init__\u001b[0;34m(self, directory, image_data_generator, target_size, color_mode, classes, class_mode, batch_size, shuffle, seed, data_format, save_to_dir, save_prefix, save_format, follow_links, subset, interpolation, dtype)\u001b[0m\n\u001b[1;32m     93\u001b[0m                                                             \u001b[0msave_format\u001b[0m\u001b[0;34m,\u001b[0m\u001b[0;34m\u001b[0m\u001b[0m\n\u001b[1;32m     94\u001b[0m                                                             \u001b[0msubset\u001b[0m\u001b[0;34m,\u001b[0m\u001b[0;34m\u001b[0m\u001b[0m\n\u001b[0;32m---> 95\u001b[0;31m                                                             interpolation)\n\u001b[0m\u001b[1;32m     96\u001b[0m         \u001b[0mself\u001b[0m\u001b[0;34m.\u001b[0m\u001b[0mdirectory\u001b[0m \u001b[0;34m=\u001b[0m \u001b[0mdirectory\u001b[0m\u001b[0;34m\u001b[0m\u001b[0m\n\u001b[1;32m     97\u001b[0m         \u001b[0mself\u001b[0m\u001b[0;34m.\u001b[0m\u001b[0mclasses\u001b[0m \u001b[0;34m=\u001b[0m \u001b[0mclasses\u001b[0m\u001b[0;34m\u001b[0m\u001b[0m\n",
      "\u001b[0;32m~/Documents/handwriting-ocr/venv/lib/python3.5/site-packages/keras_preprocessing/image/iterator.py\u001b[0m in \u001b[0;36mset_processing_attrs\u001b[0;34m(self, image_data_generator, target_size, color_mode, data_format, save_to_dir, save_prefix, save_format, subset, interpolation)\u001b[0m\n\u001b[1;32m    200\u001b[0m                 raise ValueError(\n\u001b[1;32m    201\u001b[0m                     \u001b[0;34m'Invalid subset name: %s;'\u001b[0m\u001b[0;34m\u001b[0m\u001b[0m\n\u001b[0;32m--> 202\u001b[0;31m                     'expected \"training\" or \"validation\"' % (subset,))\n\u001b[0m\u001b[1;32m    203\u001b[0m         \u001b[0;32melse\u001b[0m\u001b[0;34m:\u001b[0m\u001b[0;34m\u001b[0m\u001b[0m\n\u001b[1;32m    204\u001b[0m             \u001b[0msplit\u001b[0m \u001b[0;34m=\u001b[0m \u001b[0;32mNone\u001b[0m\u001b[0;34m\u001b[0m\u001b[0m\n",
      "\u001b[0;31mValueError\u001b[0m: Invalid subset name: train;expected \"training\" or \"validation\""
     ]
    }
   ],
   "source": [
    "train_generator = train_datagen.flow_from_directory('../imgs/train', target_size = (28,28),  \n",
    "                                                    batch_size=1, color_mode='grayscale',\n",
    "                                                    class_mode='categorical', subset='training',\n",
    "                                                    shuffle=True)"
   ]
  },
  {
   "cell_type": "code",
   "execution_count": 25,
   "metadata": {},
   "outputs": [
    {
     "data": {
      "image/png": "[encoded data removed]",
      "text/plain": [
       "<Figure size 648x432 with 1 Axes>"
      ]
     },
     "metadata": {
      "needs_background": "light"
     },
     "output_type": "display_data"
    }
   ],
   "source": [
    "display(train_generator.next()[0][0])"
   ]
  },
  {
   "cell_type": "code",
   "execution_count": null,
   "metadata": {},
   "outputs": [],
   "source": []
  }
 ],
 "metadata": {
  "kernelspec": {
   "display_name": "Python 3",
   "language": "python",
   "name": "python3"
  },
  "language_info": {
   "codemirror_mode": {
    "name": "ipython",
    "version": 3
   },
   "file_extension": ".py",
   "mimetype": "text/x-python",
   "name": "python",
   "nbconvert_exporter": "python",
   "pygments_lexer": "ipython3",
   "version": "3.5.2"
  }
 },
 "nbformat": 4,
 "nbformat_minor": 2
}
