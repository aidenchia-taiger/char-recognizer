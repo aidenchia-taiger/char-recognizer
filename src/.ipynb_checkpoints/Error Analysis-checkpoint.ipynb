{
 "cells": [
  {
   "cell_type": "markdown",
   "metadata": {},
   "source": [
    "## Background"
   ]
  },
  {
   "cell_type": "markdown",
   "metadata": {},
   "source": [
    "This notebook can be used to analyze the errors made by a model."
   ]
  },
  {
   "cell_type": "code",
   "execution_count": 1,
   "metadata": {},
   "outputs": [
    {
     "name": "stdout",
     "output_type": "stream",
     "text": [
      "app.py\t\t      LanguageModel.py\tstatic\r\n",
      "betaconfig.json       main.py\t\ttemplates\r\n",
      "Denoiser.py\t      Model.py\t\tTesseract_TextDetector.py\r\n",
      "EAST_TextDetector.py  Notebooks\t\ttest.py\r\n",
      "Error Analysis.ipynb  out.hocr\t\ttrain.py\r\n",
      "evalDoc.sh\t      __pycache__\tuserconfig.txt\r\n",
      "gammaconfig.json      Segmenter.py\tUtils.py\r\n"
     ]
    }
   ],
   "source": [
    "!ls"
   ]
  },
  {
   "cell_type": "markdown",
   "metadata": {},
   "source": [
    "## Imports"
   ]
  },
  {
   "cell_type": "code",
   "execution_count": 2,
   "metadata": {},
   "outputs": [
    {
     "name": "stderr",
     "output_type": "stream",
     "text": [
      "Using TensorFlow backend.\n"
     ]
    }
   ],
   "source": [
    "from Model import ModelFactory\n",
    "from Utils import display, save\n",
    "import keras\n",
    "from keras.preprocessing.image import ImageDataGenerator\n",
    "from keras.models import load_model\n",
    "from Segmenter import Segmenter\n",
    "from Tesseract_TextDetector import TextDetector\n",
    "import matplotlib.pyplot as plt\n",
    "import numpy as np\n",
    "import pandas as pd\n",
    "from sklearn.metrics import confusion_matrix\n",
    "import sys\n",
    "import numpy\n",
    "import cv2\n",
    "import os\n",
    "numpy.set_printoptions(threshold=sys.maxsize)\n",
    "%load_ext autoreload\n",
    "%autoreload 2"
   ]
  },
  {
   "cell_type": "markdown",
   "metadata": {
    "heading_collapsed": true
   },
   "source": [
    "## Load Model"
   ]
  },
  {
   "cell_type": "code",
   "execution_count": 3,
   "metadata": {
    "hidden": true
   },
   "outputs": [
    {
     "name": "stdout",
     "output_type": "stream",
     "text": [
      "_________________________________________________________________\n",
      "Layer (type)                 Output Shape              Param #   \n",
      "=================================================================\n",
      "input_1 (InputLayer)         (None, 28, 28, 1)         0         \n",
      "_________________________________________________________________\n",
      "conv2d_1 (Conv2D)            (None, 28, 28, 8)         80        \n",
      "_________________________________________________________________\n",
      "batch_normalization_1 (Batch (None, 28, 28, 8)         32        \n",
      "_________________________________________________________________\n",
      "activation_1 (Activation)    (None, 28, 28, 8)         0         \n",
      "_________________________________________________________________\n",
      "max_pooling2d_1 (MaxPooling2 (None, 14, 14, 8)         0         \n",
      "_________________________________________________________________\n",
      "conv2d_2 (Conv2D)            (None, 14, 14, 16)        1168      \n",
      "_________________________________________________________________\n",
      "batch_normalization_2 (Batch (None, 14, 14, 16)        64        \n",
      "_________________________________________________________________\n",
      "activation_2 (Activation)    (None, 14, 14, 16)        0         \n",
      "_________________________________________________________________\n",
      "max_pooling2d_2 (MaxPooling2 (None, 7, 7, 16)          0         \n",
      "_________________________________________________________________\n",
      "conv2d_3 (Conv2D)            (None, 7, 7, 32)          4640      \n",
      "_________________________________________________________________\n",
      "batch_normalization_3 (Batch (None, 7, 7, 32)          128       \n",
      "_________________________________________________________________\n",
      "activation_3 (Activation)    (None, 7, 7, 32)          0         \n",
      "_________________________________________________________________\n",
      "max_pooling2d_3 (MaxPooling2 (None, 3, 3, 32)          0         \n",
      "_________________________________________________________________\n",
      "conv2d_4 (Conv2D)            (None, 3, 3, 64)          51264     \n",
      "_________________________________________________________________\n",
      "batch_normalization_4 (Batch (None, 3, 3, 64)          256       \n",
      "_________________________________________________________________\n",
      "activation_4 (Activation)    (None, 3, 3, 64)          0         \n",
      "_________________________________________________________________\n",
      "max_pooling2d_4 (MaxPooling2 (None, 3, 3, 64)          0         \n",
      "_________________________________________________________________\n",
      "conv2d_5 (Conv2D)            (None, 3, 3, 128)         204928    \n",
      "_________________________________________________________________\n",
      "batch_normalization_5 (Batch (None, 3, 3, 128)         512       \n",
      "_________________________________________________________________\n",
      "activation_5 (Activation)    (None, 3, 3, 128)         0         \n",
      "_________________________________________________________________\n",
      "max_pooling2d_5 (MaxPooling2 (None, 3, 3, 128)         0         \n",
      "_________________________________________________________________\n",
      "conv2d_6 (Conv2D)            (None, 3, 3, 256)         819456    \n",
      "_________________________________________________________________\n",
      "batch_normalization_6 (Batch (None, 3, 3, 256)         1024      \n",
      "_________________________________________________________________\n",
      "activation_6 (Activation)    (None, 3, 3, 256)         0         \n",
      "_________________________________________________________________\n",
      "max_pooling2d_6 (MaxPooling2 (None, 3, 3, 256)         0         \n",
      "_________________________________________________________________\n",
      "flatten_1 (Flatten)          (None, 2304)              0         \n",
      "_________________________________________________________________\n",
      "dense_1 (Dense)              (None, 128)               295040    \n",
      "_________________________________________________________________\n",
      "dropout_1 (Dropout)          (None, 128)               0         \n",
      "_________________________________________________________________\n",
      "dense_2 (Dense)              (None, 53)                6837      \n",
      "=================================================================\n",
      "Total params: 1,385,429\n",
      "Trainable params: 1,384,421\n",
      "Non-trainable params: 1,008\n",
      "_________________________________________________________________\n",
      "None\n"
     ]
    }
   ],
   "source": [
    "model = load_model('../models/beta.h5')\n",
    "print(model.summary())"
   ]
  },
  {
   "cell_type": "code",
   "execution_count": 4,
   "metadata": {
    "hidden": true
   },
   "outputs": [
    {
     "name": "stdout",
     "output_type": "stream",
     "text": [
      "[INFO] mapping: {0: '#', 1: '$', 2: '(', 3: ')', 4: '0', 5: '1', 6: '2', 7: '3', 8: '4', 9: '5', 10: '6', 11: '7', 12: '8', 13: '9', 14: '@', 15: 'A', 16: 'B', 17: 'C', 18: 'D', 19: 'E', 20: 'F', 21: 'G', 22: 'H', 23: 'I', 24: 'J', 25: 'K', 26: 'L', 27: 'M', 28: 'N', 29: 'O', 30: 'P', 31: 'Q', 32: 'R', 33: 'S', 34: 'T', 35: 'U', 36: 'V', 37: 'W', 38: 'X', 39: 'Y', 40: 'Z', 41: 'a', 42: 'b', 43: 'd', 44: 'e', 45: 'f', 46: 'g', 47: 'h', 48: 'n', 49: 'q', 50: 'r', 51: 'slash', 52: 't'}\n",
      "[INFO] minConfidence: 0.5\n",
      "[INFO] learningRate: 0.01\n",
      "[INFO] strideVals: [1, 1, 1, 1, 1, 1]\n",
      "[INFO] savepath: ../models/beta.h5\n",
      "[INFO] batchSize: 32\n",
      "[INFO] numFilters: [8, 16, 32, 64, 128, 256]\n",
      "[INFO] poolVals: [2, 2, 2, 1, 1, 1]\n",
      "[INFO] testDir: ../imgs/test\n",
      "[INFO] kernelVals: [3, 3, 3, 5, 5, 5]\n",
      "[INFO] trainDir: ../imgs/train\n",
      "[INFO] logpath: ../logs/Time_1025_Date_18-07Model_beta\n",
      "[INFO] validDir: ../imgs/validation\n",
      "[INFO] imgSize: (28, 28, 1)\n",
      "[INFO] numClasses: 53\n",
      "[INFO] numEpochs: 50\n",
      "[INFO] dropoutRatio: 0.0\n",
      "[INFO] modelName: beta\n"
     ]
    }
   ],
   "source": [
    "mf = ModelFactory('betaconfig.json')"
   ]
  },
  {
   "cell_type": "markdown",
   "metadata": {},
   "source": [
    "## Load Data"
   ]
  },
  {
   "cell_type": "markdown",
   "metadata": {
    "heading_collapsed": true
   },
   "source": [
    "### Define Generator"
   ]
  },
  {
   "cell_type": "code",
   "execution_count": 5,
   "metadata": {
    "hidden": true
   },
   "outputs": [],
   "source": [
    "valid_datagen = ImageDataGenerator(rescale=1./255)"
   ]
  },
  {
   "cell_type": "code",
   "execution_count": 6,
   "metadata": {
    "hidden": true
   },
   "outputs": [
    {
     "name": "stdout",
     "output_type": "stream",
     "text": [
      "Found 12163 images belonging to 53 classes.\n"
     ]
    }
   ],
   "source": [
    "valid_generator = valid_datagen.flow_from_directory('../imgs/validation', \n",
    "                                                    target_size = (28, 28),\n",
    "                                                    batch_size= 1, \n",
    "                                                    color_mode='grayscale',\n",
    "                                                    class_mode='categorical', \n",
    "                                                    shuffle=False)"
   ]
  },
  {
   "cell_type": "markdown",
   "metadata": {
    "heading_collapsed": true
   },
   "source": [
    "### Display Some Data"
   ]
  },
  {
   "cell_type": "code",
   "execution_count": 7,
   "metadata": {
    "hidden": true
   },
   "outputs": [
    {
     "data": {
      "image/png": "[encoded data removed]",
      "text/plain": [
       "<Figure size 648x432 with 1 Axes>"
      ]
     },
     "metadata": {
      "needs_background": "light"
     },
     "output_type": "display_data"
    }
   ],
   "source": [
    "img, y = valid_generator.next()\n",
    "display(img)"
   ]
  },
  {
   "cell_type": "markdown",
   "metadata": {},
   "source": [
    "## Evaluate Model"
   ]
  },
  {
   "cell_type": "markdown",
   "metadata": {},
   "source": [
    "### Get Overall Accuracy"
   ]
  },
  {
   "cell_type": "code",
   "execution_count": null,
   "metadata": {},
   "outputs": [],
   "source": [
    "model.metrics_names"
   ]
  },
  {
   "cell_type": "code",
   "execution_count": null,
   "metadata": {},
   "outputs": [],
   "source": [
    "loss, acc = model.evaluate_generator(valid_generator, steps=len(valid_generator), verbose=1)\n",
    "print('Loss: ', loss)\n",
    "print('Accuracy: ', acc)"
   ]
  },
  {
   "cell_type": "code",
   "execution_count": null,
   "metadata": {},
   "outputs": [],
   "source": [
    "print(mf.mapping)"
   ]
  },
  {
   "cell_type": "markdown",
   "metadata": {},
   "source": [
    "### Get Class Predictions"
   ]
  },
  {
   "cell_type": "code",
   "execution_count": 9,
   "metadata": {},
   "outputs": [
    {
     "name": "stdout",
     "output_type": "stream",
     "text": [
      "12163/12163 [==============================] - 144s 12ms/step\n"
     ]
    }
   ],
   "source": [
    "pred = model.predict_generator(valid_generator, steps=len(valid_generator), verbose=1)"
   ]
  },
  {
   "cell_type": "code",
   "execution_count": 11,
   "metadata": {},
   "outputs": [
    {
     "name": "stdout",
     "output_type": "stream",
     "text": [
      "12163\n"
     ]
    }
   ],
   "source": [
    "cls_pred = [ mf.mapping[x] for x in np.argmax(pred, axis=1)]\n",
    "print(len(cls_pred))"
   ]
  },
  {
   "cell_type": "markdown",
   "metadata": {},
   "source": [
    "### Get Class Labels"
   ]
  },
  {
   "cell_type": "code",
   "execution_count": 10,
   "metadata": {},
   "outputs": [
    {
     "name": "stdout",
     "output_type": "stream",
     "text": [
      "12163\n"
     ]
    }
   ],
   "source": [
    "i = 0\n",
    "cls_true = [mf.mapping[x] for x in valid_generator.classes]\n",
    "print(len(cls_true))"
   ]
  },
  {
   "cell_type": "code",
   "execution_count": 12,
   "metadata": {},
   "outputs": [
    {
     "name": "stdout",
     "output_type": "stream",
     "text": [
      "0.880868206856861\n"
     ]
    }
   ],
   "source": [
    "from sklearn.metrics import accuracy_score, classification_report \n",
    "print(accuracy_score(cls_true, cls_pred))"
   ]
  },
  {
   "cell_type": "code",
   "execution_count": 100,
   "metadata": {
    "scrolled": true
   },
   "outputs": [
    {
     "name": "stdout",
     "output_type": "stream",
     "text": [
      "              precision    recall  f1-score   support\n",
      "\n",
      "           #       0.99      1.00      0.99       240\n",
      "           $       0.99      1.00      0.99       240\n",
      "           (       0.93      0.87      0.90        31\n",
      "           )       0.94      0.97      0.95        32\n",
      "           0       0.64      0.70      0.67       240\n",
      "           1       0.51      0.73      0.60       245\n",
      "           2       0.86      0.86      0.86       245\n",
      "           3       0.96      0.96      0.96       240\n",
      "           4       0.93      0.89      0.91       240\n",
      "           5       0.90      0.92      0.91       240\n",
      "           6       0.93      0.89      0.91       240\n",
      "           7       0.98      0.97      0.97       240\n",
      "           8       0.88      0.93      0.90       240\n",
      "           9       0.69      0.84      0.76       240\n",
      "           @       0.99      0.97      0.98       240\n",
      "           A       0.96      0.95      0.96       240\n",
      "           B       0.95      0.95      0.95       240\n",
      "           C       0.93      0.94      0.93       240\n",
      "           D       0.89      0.93      0.91       245\n",
      "           E       0.95      0.97      0.96       245\n",
      "           F       0.81      0.51      0.63       240\n",
      "           G       0.91      0.93      0.92       240\n",
      "           H       0.93      0.96      0.94       245\n",
      "           I       0.64      0.64      0.64       245\n",
      "           J       0.91      0.93      0.92       251\n",
      "           K       0.96      0.97      0.96       240\n",
      "           L       0.64      0.37      0.47       245\n",
      "           M       0.93      0.99      0.96       240\n",
      "           N       0.96      0.95      0.96       245\n",
      "           O       0.72      0.58      0.64       240\n",
      "           P       0.97      0.97      0.97       240\n",
      "           Q       0.94      0.92      0.93       240\n",
      "           R       0.97      0.97      0.97       240\n",
      "           S       0.88      0.90      0.89       240\n",
      "           T       0.93      0.96      0.95       240\n",
      "           U       0.92      0.96      0.94       240\n",
      "           V       0.94      0.93      0.93       240\n",
      "           W       0.97      0.96      0.97       240\n",
      "           X       0.96      0.97      0.96       240\n",
      "           Y       0.86      0.93      0.89       251\n",
      "           Z       0.87      0.88      0.87       240\n",
      "           a       0.88      0.88      0.88       240\n",
      "           b       0.91      0.95      0.93       245\n",
      "           d       0.95      0.97      0.96       240\n",
      "           e       0.93      0.94      0.94       240\n",
      "           f       0.64      0.84      0.73       245\n",
      "           g       0.75      0.64      0.69       240\n",
      "           h       0.96      0.93      0.95       245\n",
      "           n       0.95      0.94      0.95       240\n",
      "           q       0.68      0.56      0.61       240\n",
      "           r       0.98      0.89      0.93       240\n",
      "       slash       0.91      0.91      0.91        23\n",
      "           t       0.93      0.94      0.93       240\n",
      "\n",
      "    accuracy                           0.88     12163\n",
      "   macro avg       0.89      0.88      0.88     12163\n",
      "weighted avg       0.88      0.88      0.88     12163\n",
      "\n"
     ]
    }
   ],
   "source": [
    "cr = classification_report(cls_true, cls_pred)\n",
    "print(cr)"
   ]
  },
  {
   "cell_type": "code",
   "execution_count": 40,
   "metadata": {},
   "outputs": [],
   "source": [
    "def writeCR(cr, name):\n",
    "    idx = [mf.mapping[x] for x in range(53)]\n",
    "    df = pd.DataFrame(data=cr, index=idx, columns=['precision', 'recall', 'f1-score', 'support'])\n",
    "    #df.to_csv('../analysis/' + name + '.csv')"
   ]
  },
  {
   "cell_type": "code",
   "execution_count": 19,
   "metadata": {},
   "outputs": [],
   "source": [
    "mapAmbig = {'0': 'O', 'I': '1', 'q':'9', 'L': '1', 'f': 'F'}"
   ]
  },
  {
   "cell_type": "code",
   "execution_count": 20,
   "metadata": {},
   "outputs": [],
   "source": [
    "def changeLabels(cls_pred):\n",
    "    cls_pred = [mapAmbig[x] if x in mapAmbig.keys() else x for x in cls_pred]\n",
    "    return cls_pred"
   ]
  },
  {
   "cell_type": "code",
   "execution_count": 21,
   "metadata": {},
   "outputs": [],
   "source": [
    "modified_cls_pred = changeLabels(cls_pred)"
   ]
  },
  {
   "cell_type": "code",
   "execution_count": 22,
   "metadata": {},
   "outputs": [],
   "source": [
    "modified_cls_true = changeLabels(cls_true)"
   ]
  },
  {
   "cell_type": "code",
   "execution_count": 23,
   "metadata": {},
   "outputs": [
    {
     "name": "stdout",
     "output_type": "stream",
     "text": [
      "0.9326646386582258\n"
     ]
    }
   ],
   "source": [
    "print(accuracy_score(modified_cls_true, modified_cls_pred))"
   ]
  },
  {
   "cell_type": "code",
   "execution_count": 25,
   "metadata": {},
   "outputs": [
    {
     "name": "stdout",
     "output_type": "stream",
     "text": [
      "              precision    recall  f1-score   support\n",
      "\n",
      "           #       0.99      1.00      0.99       240\n",
      "           $       0.99      1.00      0.99       240\n",
      "           (       0.93      0.87      0.90        31\n",
      "           )       0.94      0.97      0.95        32\n",
      "           1       0.96      0.96      0.96       735\n",
      "           2       0.86      0.86      0.86       245\n",
      "           3       0.96      0.96      0.96       240\n",
      "           4       0.93      0.89      0.91       240\n",
      "           5       0.90      0.92      0.91       240\n",
      "           6       0.93      0.89      0.91       240\n",
      "           7       0.98      0.97      0.97       240\n",
      "           8       0.88      0.93      0.90       240\n",
      "           9       0.85      0.86      0.86       480\n",
      "           @       0.99      0.97      0.98       240\n",
      "           A       0.96      0.95      0.96       240\n",
      "           B       0.95      0.95      0.95       240\n",
      "           C       0.93      0.94      0.93       240\n",
      "           D       0.89      0.93      0.91       245\n",
      "           E       0.95      0.97      0.96       245\n",
      "           F       0.98      0.96      0.97       485\n",
      "           G       0.91      0.93      0.92       240\n",
      "           H       0.93      0.96      0.94       245\n",
      "           J       0.91      0.93      0.92       251\n",
      "           K       0.96      0.97      0.96       240\n",
      "           M       0.93      0.99      0.96       240\n",
      "           N       0.96      0.95      0.96       245\n",
      "           O       0.97      0.93      0.95       480\n",
      "           P       0.97      0.97      0.97       240\n",
      "           Q       0.94      0.92      0.93       240\n",
      "           R       0.97      0.97      0.97       240\n",
      "           S       0.88      0.90      0.89       240\n",
      "           T       0.93      0.96      0.95       240\n",
      "           U       0.92      0.96      0.94       240\n",
      "           V       0.94      0.93      0.93       240\n",
      "           W       0.97      0.96      0.97       240\n",
      "           X       0.96      0.97      0.96       240\n",
      "           Y       0.86      0.93      0.89       251\n",
      "           Z       0.87      0.88      0.87       240\n",
      "           a       0.88      0.88      0.88       240\n",
      "           b       0.91      0.95      0.93       245\n",
      "           d       0.95      0.97      0.96       240\n",
      "           e       0.93      0.94      0.94       240\n",
      "           g       0.75      0.64      0.69       240\n",
      "           h       0.96      0.93      0.95       245\n",
      "           n       0.95      0.94      0.95       240\n",
      "           r       0.98      0.89      0.93       240\n",
      "       slash       0.91      0.91      0.91        23\n",
      "           t       0.93      0.94      0.93       240\n",
      "\n",
      "    accuracy                           0.93     12163\n",
      "   macro avg       0.93      0.93      0.93     12163\n",
      "weighted avg       0.93      0.93      0.93     12163\n",
      "\n"
     ]
    }
   ],
   "source": [
    "modified_cr = classification_report(modified_cls_true, modified_cls_pred)\n",
    "print(modified_cr)"
   ]
  },
  {
   "cell_type": "code",
   "execution_count": 41,
   "metadata": {},
   "outputs": [],
   "source": [
    "writeCR(modified_cr, 'beta_ModifiedClassificationReport')"
   ]
  },
  {
   "cell_type": "markdown",
   "metadata": {},
   "source": [
    "### Plot Confusion Matrix"
   ]
  },
  {
   "cell_type": "code",
   "execution_count": 46,
   "metadata": {},
   "outputs": [],
   "source": [
    "def plot_confusion_matrix(cls_pred, cls_true, num_classes, width=27, height=18, save=False, name=None): \n",
    "    # Get the confusion matrix using sklearn.\n",
    "    cm = confusion_matrix(y_true=cls_true,\n",
    "                          y_pred=cls_pred)\n",
    "    \n",
    "    # Set plot width and height\n",
    "    plt.rcParams[\"figure.figsize\"] = [width, height]\n",
    "\n",
    "    # Plot the confusion matrix as an image.\n",
    "    plt.matshow(cm)\n",
    "    \n",
    "    # Get labels\n",
    "    idx = [mf.mapping[x] for x in range(53)]\n",
    "    \n",
    "    # Make various adjustments to the plot.\n",
    "    plt.colorbar()\n",
    "    plt.grid()\n",
    "    tick_marks = np.arange(num_classes)\n",
    "    plt.xticks(tick_marks, idx)\n",
    "    plt.yticks(tick_marks, idx)\n",
    "    plt.xlabel('Predicted')\n",
    "    plt.ylabel('True')\n",
    "\n",
    "    if save:\n",
    "        plt.savefig('../analysis/' + name + '.png')\n",
    "    # Ensure the plot is shown correctly with multiple plots\n",
    "    # in a single Notebook cell.\n",
    "    plt.show()"
   ]
  },
  {
   "cell_type": "code",
   "execution_count": 45,
   "metadata": {},
   "outputs": [
    {
     "data": {
      "image/png": "[encoded data removed]",
      "text/plain": [
       "<Figure size 1152x1152 with 2 Axes>"
      ]
     },
     "metadata": {
      "needs_background": "light"
     },
     "output_type": "display_data"
    }
   ],
   "source": [
    "plot_confusion_matrix(cls_pred, cls_true, 53, save=True)"
   ]
  },
  {
   "cell_type": "markdown",
   "metadata": {},
   "source": [
    "**Error Classifications:**    \n",
    "(Unreasonable, Common)\n",
    "- 'g' -> '8'\n",
    "- 'q' -> '8'\n",
    "- 'q' -> 'g'\n",
    "\n",
    "(Reasonable, Common)\n",
    "- 'O' -> '0'\n",
    "- 'L' -> '1'\n",
    "- 'I' -> '1'\n",
    "- 'G' -> '6'\n",
    "- 'S' -> '5'\n",
    "- 'Z' -> '2'\n",
    "- 'g' -> '9'\n",
    "- 'f' -> 'F'\n",
    "- 't' -> 'T'\n",
    "\n",
    "(Unreasonable, Uncommon)\n",
    "- 'a' -> '2'\n",
    "- 'a' -> 'A'\n",
    "- 'q' -> '2'\n",
    "- 'q' -> '4'\n",
    "- 'r' -> '4'\n",
    "- 'r' -> '5'"
   ]
  },
  {
   "cell_type": "code",
   "execution_count": 54,
   "metadata": {},
   "outputs": [],
   "source": [
    "confusionMatrix.to_csv('ConfusionMatrix.csv')"
   ]
  },
  {
   "cell_type": "markdown",
   "metadata": {},
   "source": [
    "### Compute Statistics"
   ]
  },
  {
   "cell_type": "code",
   "execution_count": null,
   "metadata": {},
   "outputs": [],
   "source": [
    "numCorrectPerClass = np.diag(confusionMatrix)"
   ]
  },
  {
   "cell_type": "code",
   "execution_count": null,
   "metadata": {},
   "outputs": [],
   "source": [
    "totalNumPerClass = confusionMatrix.sum(axis=0)"
   ]
  },
  {
   "cell_type": "code",
   "execution_count": null,
   "metadata": {},
   "outputs": [],
   "source": [
    "errorContributionPerClass = (totalNumPerClass - numCorrectPerClass) * 100 / totalNumPerClass"
   ]
  },
  {
   "cell_type": "markdown",
   "metadata": {},
   "source": [
    "### Visualize Errors"
   ]
  },
  {
   "cell_type": "code",
   "execution_count": 136,
   "metadata": {},
   "outputs": [],
   "source": [
    "def getCorrectImgs(cls_pred, cls_true, pred_label, true_label):\n",
    "    correctIdxs = []\n",
    "    for i in range(len(cls_pred)):\n",
    "        if cls_true[i] == true_label and cls_pred[i] == true_label:\n",
    "            correctIdxs.append(i)\n",
    "            \n",
    "    imgs = np.array([cv2.imread(valid_generator.filepaths[x], cv2.IMREAD_GRAYSCALE) for x in correctIdxs])  \n",
    "    display(imgs[0:9], multiple=True, rows=3, cols=3)\n",
    "    return imgs\n"
   ]
  },
  {
   "cell_type": "code",
   "execution_count": 138,
   "metadata": {},
   "outputs": [
    {
     "data": {
      "image/png": "[encoded data removed]",
      "text/plain": [
       "<Figure size 576x576 with 9 Axes>"
      ]
     },
     "metadata": {
      "needs_background": "light"
     },
     "output_type": "display_data"
    }
   ],
   "source": [
    "correctImgs = getCorrectImgs(cls_pred, cls_true, '#', '#')"
   ]
  },
  {
   "cell_type": "code",
   "execution_count": 144,
   "metadata": {},
   "outputs": [
    {
     "data": {
      "text/plain": [
       "array([[1.00000000e+00, 2.86212121e-08, 1.64225095e-36, 0.00000000e+00,\n",
       "        5.89467745e-26, 2.28339998e-13, 3.02787512e-14, 5.53435827e-15,\n",
       "        5.53699250e-17, 2.69991209e-19, 5.11679699e-18, 6.28791533e-17,\n",
       "        4.76992999e-16, 1.64968124e-18, 8.50207598e-26, 8.05229364e-14,\n",
       "        1.46162587e-18, 7.71436313e-21, 4.15991801e-22, 2.22052238e-12,\n",
       "        4.31831329e-13, 9.40851587e-15, 4.64641109e-14, 9.85207535e-14,\n",
       "        1.37239768e-14, 1.48055776e-13, 1.80815090e-14, 2.89081545e-15,\n",
       "        8.56092428e-17, 3.93155415e-28, 1.95870124e-18, 5.34875366e-17,\n",
       "        1.57478195e-15, 1.08888414e-19, 1.35822614e-14, 2.79143608e-26,\n",
       "        5.29906206e-23, 2.02844816e-16, 1.06010111e-16, 1.10358877e-16,\n",
       "        7.79300805e-14, 1.22470095e-17, 6.45816679e-14, 8.94657354e-19,\n",
       "        1.88928687e-16, 1.25456047e-12, 6.59425896e-16, 5.27673574e-14,\n",
       "        6.66180711e-19, 1.05192408e-15, 2.64727530e-13, 0.00000000e+00,\n",
       "        5.26943135e-15]], dtype=float32)"
      ]
     },
     "execution_count": 144,
     "metadata": {},
     "output_type": "execute_result"
    }
   ],
   "source": [
    "preprocessedImg = mf.preprocess(correctImgs[0], show=False, minBlack=0, invert=False)\n",
    "model.predict(preprocessedImg)"
   ]
  },
  {
   "cell_type": "code",
   "execution_count": 124,
   "metadata": {},
   "outputs": [],
   "source": [
    "def getMisclassifiedImgs(cls_pred, cls_true, pred_label, true_label):   \n",
    "    # Get all misclassified (error) indexes\n",
    "    errorIdxs = []\n",
    "    if pred_label == None:\n",
    "        for i in range(len(cls_pred)):\n",
    "            if cls_true[i] == true_label and cls_pred[i] != true_label:\n",
    "                errorIdxs.append(i)\n",
    "    else:\n",
    "        for i in range(len(cls_pred)):\n",
    "            if cls_true[i] == true_label and cls_pred[i] == pred_label:\n",
    "                errorIdxs.append(i)\n",
    "\n",
    "    print(\"No. of '{}' misclassified as '{}' = {}\".format(true_label, pred_label ,len(errorIdxs)))\n",
    "    \n",
    "    errorImgs = np.array([cv2.imread(valid_generator.filepaths[x], cv2.IMREAD_GRAYSCALE) for x in errorIdxs])\n",
    "    if len(errorImgs) % 2 == 0:\n",
    "        rows = 2\n",
    "        cols = int(len(errorImgs) / 2)\n",
    "        \n",
    "    display(errorImgs, multiple=True, rows=rows, cols=cols)\n",
    "    return errorImgs"
   ]
  },
  {
   "cell_type": "code",
   "execution_count": 125,
   "metadata": {
    "scrolled": true
   },
   "outputs": [
    {
     "name": "stdout",
     "output_type": "stream",
     "text": [
      "No. of 'g' misclassified as '8' = 12\n"
     ]
    },
    {
     "data": {
      "image/png": "[encoded data removed]",
      "text/plain": [
       "<Figure size 576x576 with 12 Axes>"
      ]
     },
     "metadata": {
      "needs_background": "light"
     },
     "output_type": "display_data"
    }
   ],
   "source": [
    "errorImgs = getMisclassifiedImgs(cls_pred, cls_true, '8', 'g')"
   ]
  },
  {
   "cell_type": "markdown",
   "metadata": {},
   "source": [
    "### View Saliency Maps"
   ]
  },
  {
   "cell_type": "code",
   "execution_count": 131,
   "metadata": {
    "scrolled": true
   },
   "outputs": [
    {
     "name": "stdout",
     "output_type": "stream",
     "text": [
      "_________________________________________________________________\n",
      "Layer (type)                 Output Shape              Param #   \n",
      "=================================================================\n",
      "input_1 (InputLayer)         (None, 28, 28, 1)         0         \n",
      "_________________________________________________________________\n",
      "conv2d_1 (Conv2D)            (None, 28, 28, 8)         80        \n",
      "_________________________________________________________________\n",
      "batch_normalization_1 (Batch (None, 28, 28, 8)         32        \n",
      "_________________________________________________________________\n",
      "activation_1 (Activation)    (None, 28, 28, 8)         0         \n",
      "_________________________________________________________________\n",
      "max_pooling2d_1 (MaxPooling2 (None, 14, 14, 8)         0         \n",
      "_________________________________________________________________\n",
      "conv2d_2 (Conv2D)            (None, 14, 14, 16)        1168      \n",
      "_________________________________________________________________\n",
      "batch_normalization_2 (Batch (None, 14, 14, 16)        64        \n",
      "_________________________________________________________________\n",
      "activation_2 (Activation)    (None, 14, 14, 16)        0         \n",
      "_________________________________________________________________\n",
      "max_pooling2d_2 (MaxPooling2 (None, 7, 7, 16)          0         \n",
      "_________________________________________________________________\n",
      "conv2d_3 (Conv2D)            (None, 7, 7, 32)          4640      \n",
      "_________________________________________________________________\n",
      "batch_normalization_3 (Batch (None, 7, 7, 32)          128       \n",
      "_________________________________________________________________\n",
      "activation_3 (Activation)    (None, 7, 7, 32)          0         \n",
      "_________________________________________________________________\n",
      "max_pooling2d_3 (MaxPooling2 (None, 3, 3, 32)          0         \n",
      "_________________________________________________________________\n",
      "conv2d_4 (Conv2D)            (None, 3, 3, 64)          51264     \n",
      "_________________________________________________________________\n",
      "batch_normalization_4 (Batch (None, 3, 3, 64)          256       \n",
      "_________________________________________________________________\n",
      "activation_4 (Activation)    (None, 3, 3, 64)          0         \n",
      "_________________________________________________________________\n",
      "max_pooling2d_4 (MaxPooling2 (None, 3, 3, 64)          0         \n",
      "_________________________________________________________________\n",
      "conv2d_5 (Conv2D)            (None, 3, 3, 128)         204928    \n",
      "_________________________________________________________________\n",
      "batch_normalization_5 (Batch (None, 3, 3, 128)         512       \n",
      "_________________________________________________________________\n",
      "activation_5 (Activation)    (None, 3, 3, 128)         0         \n",
      "_________________________________________________________________\n",
      "max_pooling2d_5 (MaxPooling2 (None, 3, 3, 128)         0         \n",
      "_________________________________________________________________\n",
      "conv2d_6 (Conv2D)            (None, 3, 3, 256)         819456    \n",
      "_________________________________________________________________\n",
      "batch_normalization_6 (Batch (None, 3, 3, 256)         1024      \n",
      "_________________________________________________________________\n",
      "activation_6 (Activation)    (None, 3, 3, 256)         0         \n",
      "_________________________________________________________________\n",
      "max_pooling2d_6 (MaxPooling2 (None, 3, 3, 256)         0         \n",
      "_________________________________________________________________\n",
      "flatten_1 (Flatten)          (None, 2304)              0         \n",
      "_________________________________________________________________\n",
      "dense_1 (Dense)              (None, 128)               295040    \n",
      "_________________________________________________________________\n",
      "dropout_1 (Dropout)          (None, 128)               0         \n",
      "_________________________________________________________________\n",
      "dense_2 (Dense)              (None, 53)                6837      \n",
      "=================================================================\n",
      "Total params: 1,385,429\n",
      "Trainable params: 1,384,421\n",
      "Non-trainable params: 1,008\n",
      "_________________________________________________________________\n"
     ]
    }
   ],
   "source": [
    "model.summary()"
   ]
  },
  {
   "cell_type": "code",
   "execution_count": 157,
   "metadata": {},
   "outputs": [
    {
     "name": "stdout",
     "output_type": "stream",
     "text": [
      "Name: keras-vis\r\n",
      "Version: 0.5.0\r\n",
      "Summary: Neural Network visualization toolkit for keras\r\n",
      "Home-page: https://github.com/raghakot/keras-vis\r\n",
      "Author: Raghavendra Kotikalapudi\r\n",
      "Author-email: ragha@outlook.com\r\n",
      "License: MIT\r\n",
      "Location: /home/aidenchia/Documents/handwriting-ocr/venv/lib/python3.5/site-packages\r\n",
      "Requires: scikit-image, h5py, six, keras, matplotlib\r\n",
      "Required-by: \r\n"
     ]
    }
   ],
   "source": [
    "!pip3 show keras_vis"
   ]
  },
  {
   "cell_type": "code",
   "execution_count": 151,
   "metadata": {},
   "outputs": [],
   "source": [
    "from vis.visualization import visualize_cam, visualize_saliency"
   ]
  },
  {
   "cell_type": "code",
   "execution_count": 118,
   "metadata": {},
   "outputs": [
    {
     "name": "stdout",
     "output_type": "stream",
     "text": [
      "{0: '#', 1: '$', 2: '(', 3: ')', 4: '0', 5: '1', 6: '2', 7: '3', 8: '4', 9: '5', 10: '6', 11: '7', 12: '8', 13: '9', 14: '@', 15: 'A', 16: 'B', 17: 'C', 18: 'D', 19: 'E', 20: 'F', 21: 'G', 22: 'H', 23: 'I', 24: 'J', 25: 'K', 26: 'L', 27: 'M', 28: 'N', 29: 'O', 30: 'P', 31: 'Q', 32: 'R', 33: 'S', 34: 'T', 35: 'U', 36: 'V', 37: 'W', 38: 'X', 39: 'Y', 40: 'Z', 41: 'a', 42: 'b', 43: 'd', 44: 'e', 45: 'f', 46: 'g', 47: 'h', 48: 'n', 49: 'q', 50: 'r', 51: 'slash', 52: 't'}\n"
     ]
    }
   ],
   "source": [
    "print(mf.mapping)"
   ]
  },
  {
   "cell_type": "code",
   "execution_count": 156,
   "metadata": {},
   "outputs": [
    {
     "ename": "InvalidArgumentError",
     "evalue": "input_1_11:0 is both fed and fetched.",
     "output_type": "error",
     "traceback": [
      "\u001b[0;31m---------------------------------------------------------------------------\u001b[0m",
      "\u001b[0;31mInvalidArgumentError\u001b[0m                      Traceback (most recent call last)",
      "\u001b[0;32m<ipython-input-156-bca3cac3648f>\u001b[0m in \u001b[0;36m<module>\u001b[0;34m\u001b[0m\n\u001b[1;32m     13\u001b[0m                           \u001b[0mfilter_indices\u001b[0m\u001b[0;34m=\u001b[0m\u001b[0;36m0\u001b[0m\u001b[0;34m,\u001b[0m\u001b[0;34m\u001b[0m\u001b[0m\n\u001b[1;32m     14\u001b[0m                           \u001b[0mseed_input\u001b[0m\u001b[0;34m=\u001b[0m\u001b[0mx_test\u001b[0m\u001b[0;34m[\u001b[0m\u001b[0midx\u001b[0m\u001b[0;34m]\u001b[0m\u001b[0;34m,\u001b[0m\u001b[0;34m\u001b[0m\u001b[0m\n\u001b[0;32m---> 15\u001b[0;31m                           backprop_modifier='guided')\n\u001b[0m\u001b[1;32m     16\u001b[0m         \u001b[0;31m#if modifier is None:\u001b[0m\u001b[0;34m\u001b[0m\u001b[0;34m\u001b[0m\u001b[0m\n\u001b[1;32m     17\u001b[0m          \u001b[0;31m#   modifier = 'vanilla'\u001b[0m\u001b[0;34m\u001b[0m\u001b[0;34m\u001b[0m\u001b[0m\n",
      "\u001b[0;32m~/Documents/handwriting-ocr/venv/lib/python3.5/site-packages/vis/visualization/saliency.py\u001b[0m in \u001b[0;36mvisualize_saliency\u001b[0;34m(model, layer_idx, filter_indices, seed_input, backprop_modifier, grad_modifier)\u001b[0m\n\u001b[1;32m    123\u001b[0m         \u001b[0;34m(\u001b[0m\u001b[0mActivationMaximization\u001b[0m\u001b[0;34m(\u001b[0m\u001b[0mmodel\u001b[0m\u001b[0;34m.\u001b[0m\u001b[0mlayers\u001b[0m\u001b[0;34m[\u001b[0m\u001b[0mlayer_idx\u001b[0m\u001b[0;34m]\u001b[0m\u001b[0;34m,\u001b[0m \u001b[0mfilter_indices\u001b[0m\u001b[0;34m)\u001b[0m\u001b[0;34m,\u001b[0m \u001b[0;34m-\u001b[0m\u001b[0;36m1\u001b[0m\u001b[0;34m)\u001b[0m\u001b[0;34m\u001b[0m\u001b[0m\n\u001b[1;32m    124\u001b[0m     ]\n\u001b[0;32m--> 125\u001b[0;31m     \u001b[0;32mreturn\u001b[0m \u001b[0mvisualize_saliency_with_losses\u001b[0m\u001b[0;34m(\u001b[0m\u001b[0mmodel\u001b[0m\u001b[0;34m.\u001b[0m\u001b[0minput\u001b[0m\u001b[0;34m,\u001b[0m \u001b[0mlosses\u001b[0m\u001b[0;34m,\u001b[0m \u001b[0mseed_input\u001b[0m\u001b[0;34m,\u001b[0m \u001b[0mgrad_modifier\u001b[0m\u001b[0;34m)\u001b[0m\u001b[0;34m\u001b[0m\u001b[0m\n\u001b[0m\u001b[1;32m    126\u001b[0m \u001b[0;34m\u001b[0m\u001b[0m\n\u001b[1;32m    127\u001b[0m \u001b[0;34m\u001b[0m\u001b[0m\n",
      "\u001b[0;32m~/Documents/handwriting-ocr/venv/lib/python3.5/site-packages/vis/visualization/saliency.py\u001b[0m in \u001b[0;36mvisualize_saliency_with_losses\u001b[0;34m(input_tensor, losses, seed_input, grad_modifier)\u001b[0m\n\u001b[1;32m     71\u001b[0m     \"\"\"\n\u001b[1;32m     72\u001b[0m     \u001b[0mopt\u001b[0m \u001b[0;34m=\u001b[0m \u001b[0mOptimizer\u001b[0m\u001b[0;34m(\u001b[0m\u001b[0minput_tensor\u001b[0m\u001b[0;34m,\u001b[0m \u001b[0mlosses\u001b[0m\u001b[0;34m,\u001b[0m \u001b[0mnorm_grads\u001b[0m\u001b[0;34m=\u001b[0m\u001b[0;32mFalse\u001b[0m\u001b[0;34m)\u001b[0m\u001b[0;34m\u001b[0m\u001b[0m\n\u001b[0;32m---> 73\u001b[0;31m     \u001b[0mgrads\u001b[0m \u001b[0;34m=\u001b[0m \u001b[0mopt\u001b[0m\u001b[0;34m.\u001b[0m\u001b[0mminimize\u001b[0m\u001b[0;34m(\u001b[0m\u001b[0mseed_input\u001b[0m\u001b[0;34m=\u001b[0m\u001b[0mseed_input\u001b[0m\u001b[0;34m,\u001b[0m \u001b[0mmax_iter\u001b[0m\u001b[0;34m=\u001b[0m\u001b[0;36m1\u001b[0m\u001b[0;34m,\u001b[0m \u001b[0mgrad_modifier\u001b[0m\u001b[0;34m=\u001b[0m\u001b[0mgrad_modifier\u001b[0m\u001b[0;34m,\u001b[0m \u001b[0mverbose\u001b[0m\u001b[0;34m=\u001b[0m\u001b[0;32mFalse\u001b[0m\u001b[0;34m)\u001b[0m\u001b[0;34m[\u001b[0m\u001b[0;36m1\u001b[0m\u001b[0;34m]\u001b[0m\u001b[0;34m\u001b[0m\u001b[0m\n\u001b[0m\u001b[1;32m     74\u001b[0m \u001b[0;34m\u001b[0m\u001b[0m\n\u001b[1;32m     75\u001b[0m     \u001b[0mchannel_idx\u001b[0m \u001b[0;34m=\u001b[0m \u001b[0;36m1\u001b[0m \u001b[0;32mif\u001b[0m \u001b[0mK\u001b[0m\u001b[0;34m.\u001b[0m\u001b[0mimage_data_format\u001b[0m\u001b[0;34m(\u001b[0m\u001b[0;34m)\u001b[0m \u001b[0;34m==\u001b[0m \u001b[0;34m'channels_first'\u001b[0m \u001b[0;32melse\u001b[0m \u001b[0;34m-\u001b[0m\u001b[0;36m1\u001b[0m\u001b[0;34m\u001b[0m\u001b[0m\n",
      "\u001b[0;32m~/Documents/handwriting-ocr/venv/lib/python3.5/site-packages/vis/optimizer.py\u001b[0m in \u001b[0;36mminimize\u001b[0;34m(self, seed_input, max_iter, input_modifiers, grad_modifier, callbacks, verbose)\u001b[0m\n\u001b[1;32m    141\u001b[0m \u001b[0;34m\u001b[0m\u001b[0m\n\u001b[1;32m    142\u001b[0m             \u001b[0;31m# 0 learning phase for 'test'\u001b[0m\u001b[0;34m\u001b[0m\u001b[0;34m\u001b[0m\u001b[0m\n\u001b[0;32m--> 143\u001b[0;31m             \u001b[0mcomputed_values\u001b[0m \u001b[0;34m=\u001b[0m \u001b[0mself\u001b[0m\u001b[0;34m.\u001b[0m\u001b[0mcompute_fn\u001b[0m\u001b[0;34m(\u001b[0m\u001b[0;34m[\u001b[0m\u001b[0mseed_input\u001b[0m\u001b[0;34m,\u001b[0m \u001b[0;36m0\u001b[0m\u001b[0;34m]\u001b[0m\u001b[0;34m)\u001b[0m\u001b[0;34m\u001b[0m\u001b[0m\n\u001b[0m\u001b[1;32m    144\u001b[0m             \u001b[0mlosses\u001b[0m \u001b[0;34m=\u001b[0m \u001b[0mcomputed_values\u001b[0m\u001b[0;34m[\u001b[0m\u001b[0;34m:\u001b[0m\u001b[0mlen\u001b[0m\u001b[0;34m(\u001b[0m\u001b[0mself\u001b[0m\u001b[0;34m.\u001b[0m\u001b[0mloss_names\u001b[0m\u001b[0;34m)\u001b[0m\u001b[0;34m]\u001b[0m\u001b[0;34m\u001b[0m\u001b[0m\n\u001b[1;32m    145\u001b[0m             \u001b[0mnamed_losses\u001b[0m \u001b[0;34m=\u001b[0m \u001b[0mzip\u001b[0m\u001b[0;34m(\u001b[0m\u001b[0mself\u001b[0m\u001b[0;34m.\u001b[0m\u001b[0mloss_names\u001b[0m\u001b[0;34m,\u001b[0m \u001b[0mlosses\u001b[0m\u001b[0;34m)\u001b[0m\u001b[0;34m\u001b[0m\u001b[0m\n",
      "\u001b[0;32m~/Documents/handwriting-ocr/venv/lib/python3.5/site-packages/keras/backend/tensorflow_backend.py\u001b[0m in \u001b[0;36m__call__\u001b[0;34m(self, inputs)\u001b[0m\n\u001b[1;32m   2713\u001b[0m                 \u001b[0;32mreturn\u001b[0m \u001b[0mself\u001b[0m\u001b[0;34m.\u001b[0m\u001b[0m_legacy_call\u001b[0m\u001b[0;34m(\u001b[0m\u001b[0minputs\u001b[0m\u001b[0;34m)\u001b[0m\u001b[0;34m\u001b[0m\u001b[0m\n\u001b[1;32m   2714\u001b[0m \u001b[0;34m\u001b[0m\u001b[0m\n\u001b[0;32m-> 2715\u001b[0;31m             \u001b[0;32mreturn\u001b[0m \u001b[0mself\u001b[0m\u001b[0;34m.\u001b[0m\u001b[0m_call\u001b[0m\u001b[0;34m(\u001b[0m\u001b[0minputs\u001b[0m\u001b[0;34m)\u001b[0m\u001b[0;34m\u001b[0m\u001b[0m\n\u001b[0m\u001b[1;32m   2716\u001b[0m         \u001b[0;32melse\u001b[0m\u001b[0;34m:\u001b[0m\u001b[0;34m\u001b[0m\u001b[0m\n\u001b[1;32m   2717\u001b[0m             \u001b[0;32mif\u001b[0m \u001b[0mpy_any\u001b[0m\u001b[0;34m(\u001b[0m\u001b[0mis_tensor\u001b[0m\u001b[0;34m(\u001b[0m\u001b[0mx\u001b[0m\u001b[0;34m)\u001b[0m \u001b[0;32mfor\u001b[0m \u001b[0mx\u001b[0m \u001b[0;32min\u001b[0m \u001b[0minputs\u001b[0m\u001b[0;34m)\u001b[0m\u001b[0;34m:\u001b[0m\u001b[0;34m\u001b[0m\u001b[0m\n",
      "\u001b[0;32m~/Documents/handwriting-ocr/venv/lib/python3.5/site-packages/keras/backend/tensorflow_backend.py\u001b[0m in \u001b[0;36m_call\u001b[0;34m(self, inputs)\u001b[0m\n\u001b[1;32m   2669\u001b[0m                                 \u001b[0mfeed_symbols\u001b[0m\u001b[0;34m,\u001b[0m\u001b[0;34m\u001b[0m\u001b[0m\n\u001b[1;32m   2670\u001b[0m                                 \u001b[0msymbol_vals\u001b[0m\u001b[0;34m,\u001b[0m\u001b[0;34m\u001b[0m\u001b[0m\n\u001b[0;32m-> 2671\u001b[0;31m                                 session)\n\u001b[0m\u001b[1;32m   2672\u001b[0m         \u001b[0;32mif\u001b[0m \u001b[0mself\u001b[0m\u001b[0;34m.\u001b[0m\u001b[0mrun_metadata\u001b[0m\u001b[0;34m:\u001b[0m\u001b[0;34m\u001b[0m\u001b[0m\n\u001b[1;32m   2673\u001b[0m             \u001b[0mfetched\u001b[0m \u001b[0;34m=\u001b[0m \u001b[0mself\u001b[0m\u001b[0;34m.\u001b[0m\u001b[0m_callable_fn\u001b[0m\u001b[0;34m(\u001b[0m\u001b[0;34m*\u001b[0m\u001b[0marray_vals\u001b[0m\u001b[0;34m,\u001b[0m \u001b[0mrun_metadata\u001b[0m\u001b[0;34m=\u001b[0m\u001b[0mself\u001b[0m\u001b[0;34m.\u001b[0m\u001b[0mrun_metadata\u001b[0m\u001b[0;34m)\u001b[0m\u001b[0;34m\u001b[0m\u001b[0m\n",
      "\u001b[0;32m~/Documents/handwriting-ocr/venv/lib/python3.5/site-packages/keras/backend/tensorflow_backend.py\u001b[0m in \u001b[0;36m_make_callable\u001b[0;34m(self, feed_arrays, feed_symbols, symbol_vals, session)\u001b[0m\n\u001b[1;32m   2621\u001b[0m             \u001b[0mcallable_opts\u001b[0m\u001b[0;34m.\u001b[0m\u001b[0mrun_options\u001b[0m\u001b[0;34m.\u001b[0m\u001b[0mCopyFrom\u001b[0m\u001b[0;34m(\u001b[0m\u001b[0mself\u001b[0m\u001b[0;34m.\u001b[0m\u001b[0mrun_options\u001b[0m\u001b[0;34m)\u001b[0m\u001b[0;34m\u001b[0m\u001b[0m\n\u001b[1;32m   2622\u001b[0m         \u001b[0;31m# Create callable.\u001b[0m\u001b[0;34m\u001b[0m\u001b[0;34m\u001b[0m\u001b[0m\n\u001b[0;32m-> 2623\u001b[0;31m         \u001b[0mcallable_fn\u001b[0m \u001b[0;34m=\u001b[0m \u001b[0msession\u001b[0m\u001b[0;34m.\u001b[0m\u001b[0m_make_callable_from_options\u001b[0m\u001b[0;34m(\u001b[0m\u001b[0mcallable_opts\u001b[0m\u001b[0;34m)\u001b[0m\u001b[0;34m\u001b[0m\u001b[0m\n\u001b[0m\u001b[1;32m   2624\u001b[0m         \u001b[0;31m# Cache parameters corresponding to the generated callable, so that\u001b[0m\u001b[0;34m\u001b[0m\u001b[0;34m\u001b[0m\u001b[0m\n\u001b[1;32m   2625\u001b[0m         \u001b[0;31m# we can detect future mismatches and refresh the callable.\u001b[0m\u001b[0;34m\u001b[0m\u001b[0;34m\u001b[0m\u001b[0m\n",
      "\u001b[0;32m~/Documents/handwriting-ocr/venv/lib/python3.5/site-packages/tensorflow/python/client/session.py\u001b[0m in \u001b[0;36m_make_callable_from_options\u001b[0;34m(self, callable_options)\u001b[0m\n\u001b[1;32m   1469\u001b[0m     \"\"\"\n\u001b[1;32m   1470\u001b[0m     \u001b[0mself\u001b[0m\u001b[0;34m.\u001b[0m\u001b[0m_extend_graph\u001b[0m\u001b[0;34m(\u001b[0m\u001b[0;34m)\u001b[0m\u001b[0;34m\u001b[0m\u001b[0m\n\u001b[0;32m-> 1471\u001b[0;31m     \u001b[0;32mreturn\u001b[0m \u001b[0mBaseSession\u001b[0m\u001b[0;34m.\u001b[0m\u001b[0m_Callable\u001b[0m\u001b[0;34m(\u001b[0m\u001b[0mself\u001b[0m\u001b[0;34m,\u001b[0m \u001b[0mcallable_options\u001b[0m\u001b[0;34m)\u001b[0m\u001b[0;34m\u001b[0m\u001b[0m\n\u001b[0m\u001b[1;32m   1472\u001b[0m \u001b[0;34m\u001b[0m\u001b[0m\n\u001b[1;32m   1473\u001b[0m \u001b[0;34m\u001b[0m\u001b[0m\n",
      "\u001b[0;32m~/Documents/handwriting-ocr/venv/lib/python3.5/site-packages/tensorflow/python/client/session.py\u001b[0m in \u001b[0;36m__init__\u001b[0;34m(self, session, callable_options)\u001b[0m\n\u001b[1;32m   1423\u001b[0m         \u001b[0;32mwith\u001b[0m \u001b[0merrors\u001b[0m\u001b[0;34m.\u001b[0m\u001b[0mraise_exception_on_not_ok_status\u001b[0m\u001b[0;34m(\u001b[0m\u001b[0;34m)\u001b[0m \u001b[0;32mas\u001b[0m \u001b[0mstatus\u001b[0m\u001b[0;34m:\u001b[0m\u001b[0;34m\u001b[0m\u001b[0m\n\u001b[1;32m   1424\u001b[0m           self._handle = tf_session.TF_SessionMakeCallable(\n\u001b[0;32m-> 1425\u001b[0;31m               session._session, options_ptr, status)\n\u001b[0m\u001b[1;32m   1426\u001b[0m       \u001b[0;32mfinally\u001b[0m\u001b[0;34m:\u001b[0m\u001b[0;34m\u001b[0m\u001b[0m\n\u001b[1;32m   1427\u001b[0m         \u001b[0mtf_session\u001b[0m\u001b[0;34m.\u001b[0m\u001b[0mTF_DeleteBuffer\u001b[0m\u001b[0;34m(\u001b[0m\u001b[0moptions_ptr\u001b[0m\u001b[0;34m)\u001b[0m\u001b[0;34m\u001b[0m\u001b[0m\n",
      "\u001b[0;32m~/Documents/handwriting-ocr/venv/lib/python3.5/site-packages/tensorflow/python/framework/errors_impl.py\u001b[0m in \u001b[0;36m__exit__\u001b[0;34m(self, type_arg, value_arg, traceback_arg)\u001b[0m\n\u001b[1;32m    526\u001b[0m             \u001b[0;32mNone\u001b[0m\u001b[0;34m,\u001b[0m \u001b[0;32mNone\u001b[0m\u001b[0;34m,\u001b[0m\u001b[0;34m\u001b[0m\u001b[0m\n\u001b[1;32m    527\u001b[0m             \u001b[0mcompat\u001b[0m\u001b[0;34m.\u001b[0m\u001b[0mas_text\u001b[0m\u001b[0;34m(\u001b[0m\u001b[0mc_api\u001b[0m\u001b[0;34m.\u001b[0m\u001b[0mTF_Message\u001b[0m\u001b[0;34m(\u001b[0m\u001b[0mself\u001b[0m\u001b[0;34m.\u001b[0m\u001b[0mstatus\u001b[0m\u001b[0;34m.\u001b[0m\u001b[0mstatus\u001b[0m\u001b[0;34m)\u001b[0m\u001b[0;34m)\u001b[0m\u001b[0;34m,\u001b[0m\u001b[0;34m\u001b[0m\u001b[0m\n\u001b[0;32m--> 528\u001b[0;31m             c_api.TF_GetCode(self.status.status))\n\u001b[0m\u001b[1;32m    529\u001b[0m     \u001b[0;31m# Delete the underlying status object from memory otherwise it stays alive\u001b[0m\u001b[0;34m\u001b[0m\u001b[0;34m\u001b[0m\u001b[0m\n\u001b[1;32m    530\u001b[0m     \u001b[0;31m# as there is a reference to status from this from the traceback due to\u001b[0m\u001b[0;34m\u001b[0m\u001b[0;34m\u001b[0m\u001b[0m\n",
      "\u001b[0;31mInvalidArgumentError\u001b[0m: input_1_11:0 is both fed and fetched."
     ]
    }
   ],
   "source": [
    "layer_idx = -1\n",
    "penultimate_layer_idx = -5\n",
    "x_test = [mf.preprocess(x, show=False, minBlack=0, invert=False) for x in correctImgs]\n",
    "\n",
    "for idx in range(len(x_test)):\n",
    "    if idx == 9:\n",
    "        break\n",
    "    #f, ax = plt.subplots(1, 4)\n",
    "    #ax[0].imshow(correctImgs[idx])\n",
    "\n",
    "    #for i, modifier in enumerate([None, 'guided', 'relu']): \n",
    "    grads = visualize_saliency(model, layer_idx, \n",
    "                          filter_indices=0, \n",
    "                          seed_input=x_test[idx],\n",
    "                          backprop_modifier='guided')\n",
    "        #if modifier is None:\n",
    "         #   modifier = 'vanilla'\n",
    "    '''\n",
    "    ax[i+1].set_title('guided')\n",
    "    ax[i+1].imshow(grads, cmap='jet')\n",
    "    '''\n",
    "    f, ax = plt.subplots(1,2)\n",
    "    ax[0].imshow(x_test[idx][...,0])\n",
    "    ax[1].imshow(grads, cmap='jet')"
   ]
  },
  {
   "cell_type": "code",
   "execution_count": 122,
   "metadata": {},
   "outputs": [
    {
     "name": "stdout",
     "output_type": "stream",
     "text": [
      "Help on function visualize_cam in module vis.visualization.saliency:\n",
      "\n",
      "visualize_cam(model, layer_idx, filter_indices, seed_input, penultimate_layer_idx=None, backprop_modifier=None, grad_modifier=None)\n",
      "    Generates a gradient based class activation map (grad-CAM) that maximizes the outputs of\n",
      "    `filter_indices` in `layer_idx`.\n",
      "    \n",
      "    Args:\n",
      "        model: The `keras.models.Model` instance. The model input shape must be: `(samples, channels, image_dims...)`\n",
      "            if `image_data_format=channels_first` or `(samples, image_dims..., channels)` if\n",
      "            `image_data_format=channels_last`.\n",
      "        layer_idx: The layer index within `model.layers` whose filters needs to be visualized.\n",
      "        filter_indices: filter indices within the layer to be maximized.\n",
      "            If None, all filters are visualized. (Default value = None)\n",
      "            For `keras.layers.Dense` layer, `filter_idx` is interpreted as the output index.\n",
      "            If you are visualizing final `keras.layers.Dense` layer, consider switching 'softmax' activation for\n",
      "            'linear' using [utils.apply_modifications](vis.utils.utils#apply_modifications) for better results.\n",
      "        seed_input: The input image for which activation map needs to be visualized.\n",
      "        penultimate_layer_idx: The pre-layer to `layer_idx` whose feature maps should be used to compute gradients\n",
      "            wrt filter output. If not provided, it is set to the nearest penultimate `Conv` or `Pooling` layer.\n",
      "        backprop_modifier: backprop modifier to use. See [backprop_modifiers](vis.backprop_modifiers.md). If you don't\n",
      "            specify anything, no backprop modification is applied. (Default value = None)\n",
      "        grad_modifier: gradient modifier to use. See [grad_modifiers](vis.grad_modifiers.md). If you don't\n",
      "            specify anything, gradients are unchanged (Default value = None)\n",
      "    \n",
      "     Example:\n",
      "        If you wanted to visualize attention over 'bird' category, say output index 22 on the\n",
      "        final `keras.layers.Dense` layer, then, `filter_indices = [22]`, `layer = dense_layer`.\n",
      "    \n",
      "        One could also set filter indices to more than one value. For example, `filter_indices = [22, 23]` should\n",
      "        (hopefully) show attention map that corresponds to both 22, 23 output categories.\n",
      "    \n",
      "    Returns:\n",
      "        The heatmap image indicating the input regions whose change would most contribute towards\n",
      "        maximizing the output of `filter_indices`.\n",
      "\n"
     ]
    }
   ],
   "source": [
    "help(visualize_cam)"
   ]
  },
  {
   "cell_type": "code",
   "execution_count": 154,
   "metadata": {},
   "outputs": [],
   "source": [
    "from keras import activations\n",
    "from vis.utils import utils\n",
    "model.layers[layer_idx].activation = activations.softmax\n",
    "model = utils.apply_modifications(model)"
   ]
  },
  {
   "cell_type": "code",
   "execution_count": null,
   "metadata": {},
   "outputs": [],
   "source": []
  }
 ],
 "metadata": {
  "kernelspec": {
   "display_name": "Python 3",
   "language": "python",
   "name": "python3"
  },
  "language_info": {
   "codemirror_mode": {
    "name": "ipython",
    "version": 3
   },
   "file_extension": ".py",
   "mimetype": "text/x-python",
   "name": "python",
   "nbconvert_exporter": "python",
   "pygments_lexer": "ipython3",
   "version": "3.5.2"
  }
 },
 "nbformat": 4,
 "nbformat_minor": 2
}
