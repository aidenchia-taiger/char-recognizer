{
 "cells": [
  {
   "cell_type": "code",
   "execution_count": 1,
   "metadata": {},
   "outputs": [
    {
     "name": "stderr",
     "output_type": "stream",
     "text": [
      "Using TensorFlow backend.\n"
     ]
    }
   ],
   "source": [
    "import keras\n",
    "from keras.models import load_model\n",
    "from model import ModelFactory\n",
    "from Utils import display"
   ]
  },
  {
   "cell_type": "code",
   "execution_count": 2,
   "metadata": {},
   "outputs": [
    {
     "name": "stdout",
     "output_type": "stream",
     "text": [
      "[INFO] filterVals: [8, 16, 32, 64]\n",
      "[INFO] numEpochs: 50\n",
      "[INFO] numClasses: 53\n",
      "[INFO] batchSize: 32\n",
      "[INFO] strideVals: [1, 1, 1, 1]\n",
      "[INFO] poolVals: [2, 2, 2, 1]\n",
      "[INFO] learningRate: 0.01\n",
      "[INFO] imgSize: (32, 32, 1)\n",
      "[INFO] savepath: ../models/model.h5\n",
      "[INFO] dropoutRatio: 0.6\n",
      "[INFO] kernelVals: [4, 4, 4, 4]\n",
      "[INFO] logpath: ../logs/Time_1743_Date_05-07_model\n",
      "[INFO] modelName: model\n",
      "_________________________________________________________________\n",
      "Layer (type)                 Output Shape              Param #   \n",
      "=================================================================\n",
      "input_1 (InputLayer)         (None, 32, 32, 1)         0         \n",
      "_________________________________________________________________\n",
      "conv2d_1 (Conv2D)            (None, 32, 32, 8)         136       \n",
      "_________________________________________________________________\n",
      "conv2d_2 (Conv2D)            (None, 32, 32, 16)        2064      \n",
      "_________________________________________________________________\n",
      "batch_normalization_1 (Batch (None, 32, 32, 16)        64        \n",
      "_________________________________________________________________\n",
      "activation_1 (Activation)    (None, 32, 32, 16)        0         \n",
      "_________________________________________________________________\n",
      "max_pooling2d_1 (MaxPooling2 (None, 16, 16, 16)        0         \n",
      "_________________________________________________________________\n",
      "conv2d_3 (Conv2D)            (None, 16, 16, 32)        8224      \n",
      "_________________________________________________________________\n",
      "batch_normalization_2 (Batch (None, 16, 16, 32)        128       \n",
      "_________________________________________________________________\n",
      "activation_2 (Activation)    (None, 16, 16, 32)        0         \n",
      "_________________________________________________________________\n",
      "max_pooling2d_2 (MaxPooling2 (None, 8, 8, 32)          0         \n",
      "_________________________________________________________________\n",
      "conv2d_4 (Conv2D)            (None, 8, 8, 64)          32832     \n",
      "_________________________________________________________________\n",
      "batch_normalization_3 (Batch (None, 8, 8, 64)          256       \n",
      "_________________________________________________________________\n",
      "activation_3 (Activation)    (None, 8, 8, 64)          0         \n",
      "_________________________________________________________________\n",
      "max_pooling2d_3 (MaxPooling2 (None, 8, 8, 64)          0         \n",
      "_________________________________________________________________\n",
      "flatten_1 (Flatten)          (None, 4096)              0         \n",
      "_________________________________________________________________\n",
      "dense_1 (Dense)              (None, 128)               524416    \n",
      "_________________________________________________________________\n",
      "dropout_1 (Dropout)          (None, 128)               0         \n",
      "_________________________________________________________________\n",
      "dense_2 (Dense)              (None, 53)                6837      \n",
      "=================================================================\n",
      "Total params: 574,957\n",
      "Trainable params: 574,733\n",
      "Non-trainable params: 224\n",
      "_________________________________________________________________\n",
      "None\n"
     ]
    }
   ],
   "source": [
    "model = ModelFactory(modelName='model', batchSize=32, numClasses=53, imgSize=(32,32,1), dropoutRatio=0.6,\n",
    "                     filterVals=[8,16,32,64], kernelVals=[4,4,4,4], poolVals=[2,2,2,1], strideVals=[1,1,1,1],\n",
    "                     learningRate=0.01, numEpochs=50).build()"
   ]
  },
  {
   "cell_type": "code",
   "execution_count": 3,
   "metadata": {},
   "outputs": [],
   "source": [
    "model.load_weights('../models/model.h5')"
   ]
  },
  {
   "cell_type": "code",
   "execution_count": 4,
   "metadata": {},
   "outputs": [],
   "source": [
    "X = []\n",
    "Y = []\n",
    "import os\n",
    "import cv2\n",
    "for root, _, files in os.walk('../imgs/validation/'):\n",
    "    for file in files:\n",
    "        if '.png' not in file:\n",
    "            continue\n",
    "        X.append(cv2.imread(os.path.join(root, file), cv2.IMREAD_GRAYSCALE))\n",
    "        Y.append(root.split('/')[-1])"
   ]
  },
  {
   "cell_type": "code",
   "execution_count": 8,
   "metadata": {},
   "outputs": [
    {
     "name": "stdout",
     "output_type": "stream",
     "text": [
      "8\n"
     ]
    },
    {
     "data": {
      "image/png": "[encoded data removed]",
      "text/plain": [
       "<Figure size 648x432 with 1 Axes>"
      ]
     },
     "metadata": {
      "needs_background": "light"
     },
     "output_type": "display_data"
    }
   ],
   "source": [
    "from random import randint\n",
    "idx = randint(0, len(Y))\n",
    "print(Y[idx])\n",
    "display(X[idx])"
   ]
  },
  {
   "cell_type": "code",
   "execution_count": 24,
   "metadata": {},
   "outputs": [
    {
     "name": "stdout",
     "output_type": "stream",
     "text": [
      "Found 12163 images belonging to 53 classes.\n"
     ]
    }
   ],
   "source": [
    "from keras.preprocessing.image import ImageDataGenerator\n",
    "valid_datagen = ImageDataGenerator(rescale=1./255)\n",
    "valid_generator = valid_datagen.flow_from_directory('../imgs/validation', batch_size=1, \n",
    "                                                    target_size =(32,32), shuffle=False)"
   ]
  },
  {
   "cell_type": "code",
   "execution_count": 10,
   "metadata": {
    "scrolled": true
   },
   "outputs": [
    {
     "data": {
      "text/plain": [
       "{0: '#',\n",
       " 1: '$',\n",
       " 2: '(',\n",
       " 3: ')',\n",
       " 4: '0',\n",
       " 5: '1',\n",
       " 6: '2',\n",
       " 7: '3',\n",
       " 8: '4',\n",
       " 9: '5',\n",
       " 10: '6',\n",
       " 11: '7',\n",
       " 12: '8',\n",
       " 13: '9',\n",
       " 14: '@',\n",
       " 15: 'A',\n",
       " 16: 'B',\n",
       " 17: 'C',\n",
       " 18: 'D',\n",
       " 19: 'E',\n",
       " 20: 'F',\n",
       " 21: 'G',\n",
       " 22: 'H',\n",
       " 23: 'I',\n",
       " 24: 'J',\n",
       " 25: 'K',\n",
       " 26: 'L',\n",
       " 27: 'M',\n",
       " 28: 'N',\n",
       " 29: 'O',\n",
       " 30: 'P',\n",
       " 31: 'Q',\n",
       " 32: 'R',\n",
       " 33: 'S',\n",
       " 34: 'T',\n",
       " 35: 'U',\n",
       " 36: 'V',\n",
       " 37: 'W',\n",
       " 38: 'X',\n",
       " 39: 'Y',\n",
       " 40: 'Z',\n",
       " 41: 'a',\n",
       " 42: 'b',\n",
       " 43: 'd',\n",
       " 44: 'e',\n",
       " 45: 'f',\n",
       " 46: 'g',\n",
       " 47: 'h',\n",
       " 48: 'n',\n",
       " 49: 'q',\n",
       " 50: 'r',\n",
       " 51: 'slash',\n",
       " 52: 't'}"
      ]
     },
     "execution_count": 10,
     "metadata": {},
     "output_type": "execute_result"
    }
   ],
   "source": [
    "mapping = valid_generator.class_indices\n",
    "inv_mapping = {v:k for k,v in mapping.items()}\n",
    "#inv_mapping\n",
    "inv_mapping"
   ]
  },
  {
   "cell_type": "code",
   "execution_count": 21,
   "metadata": {},
   "outputs": [
    {
     "name": "stdout",
     "output_type": "stream",
     "text": [
      "1\n",
      "1\n"
     ]
    },
    {
     "data": {
      "text/plain": [
       "'\\nfor i in range(len(X)):\\n    x = cv2.resize(X[i], (32, 32))\\n    x = np.expand_dims(x, axis=0)\\n    x = np.expand_dims(x, axis=-1)\\n    #print(np.argmax(model.predict(x)))\\n'"
      ]
     },
     "execution_count": 21,
     "metadata": {},
     "output_type": "execute_result"
    }
   ],
   "source": [
    "import numpy as np\n",
    "for i in valid_generator.next():\n",
    "    print(len(i))\n",
    "    #model.predict(x)\n",
    "    #print(y)\n",
    "'''\n",
    "for i in range(len(X)):\n",
    "    x = cv2.resize(X[i], (32, 32))\n",
    "    x = np.expand_dims(x, axis=0)\n",
    "    x = np.expand_dims(x, axis=-1)\n",
    "    #print(np.argmax(model.predict(x)))\n",
    "'''\n",
    "#     pred = inv_mapping[np.argmax(model.predict(x))]\n",
    "#     print('Ground Truth: {}, Prediction: {}'.format(y, pred))"
   ]
  },
  {
   "cell_type": "code",
   "execution_count": 23,
   "metadata": {},
   "outputs": [
    {
     "data": {
      "text/plain": [
       "(1, 256, 256, 3)"
      ]
     },
     "execution_count": 23,
     "metadata": {},
     "output_type": "execute_result"
    }
   ],
   "source": [
    "valid_generator.next()[0].shape"
   ]
  },
  {
   "cell_type": "code",
   "execution_count": null,
   "metadata": {},
   "outputs": [],
   "source": []
  }
 ],
 "metadata": {
  "kernelspec": {
   "display_name": "Python 3",
   "language": "python",
   "name": "python3"
  },
  "language_info": {
   "codemirror_mode": {
    "name": "ipython",
    "version": 3
   },
   "file_extension": ".py",
   "mimetype": "text/x-python",
   "name": "python",
   "nbconvert_exporter": "python",
   "pygments_lexer": "ipython3",
   "version": "3.5.2"
  }
 },
 "nbformat": 4,
 "nbformat_minor": 2
}
