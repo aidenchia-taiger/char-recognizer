{
 "cells": [
  {
   "cell_type": "markdown",
   "metadata": {},
   "source": [
    "## Data Visualisation"
   ]
  },
  {
   "cell_type": "code",
   "execution_count": 1,
   "metadata": {},
   "outputs": [],
   "source": [
    "import os\n",
    "import cv2\n",
    "import matplotlib.pyplot as plt\n",
    "from Utils import display, save\n",
    "from random import randint, shuffle"
   ]
  },
  {
   "cell_type": "code",
   "execution_count": 2,
   "metadata": {},
   "outputs": [],
   "source": [
    "def getAllFiles(src):\n",
    "    allFiles = []\n",
    "    for root, _, files in os.walk(src):\n",
    "        for file in files:\n",
    "            if '.png' in file:\n",
    "                allFiles.append(file)\n",
    "    \n",
    "    return allFiles"
   ]
  },
  {
   "cell_type": "code",
   "execution_count": 7,
   "metadata": {},
   "outputs": [],
   "source": [
    "def displayRandomImgs():\n",
    "    subfolders = os.listdir('../imgs/train')\n",
    "    src = os.path.join('../imgs/train', subfolders[randint(0, len(subfolders))])\n",
    "    allFiles = getAllFiles(src)\n",
    "    shuffle(allFiles)\n",
    "    imgs = [cv2.imread(os.path.join(src, allFiles[i])) for i in range(10)]\n",
    "    print('Class Label: {}'.format(src.split('/')[-1]))\n",
    "    display(imgs, multiple=True, rows=3, cols=3)"
   ]
  },
  {
   "cell_type": "code",
   "execution_count": 9,
   "metadata": {},
   "outputs": [
    {
     "name": "stdout",
     "output_type": "stream",
     "text": [
      "Class Label: a\n"
     ]
    },
    {
     "data": {
      "image/png": "[encoded data removed]",
      "text/plain": [
       "<Figure size 576x576 with 9 Axes>"
      ]
     },
     "metadata": {
      "needs_background": "light"
     },
     "output_type": "display_data"
    }
   ],
   "source": [
    "displayRandomImgs()"
   ]
  },
  {
   "cell_type": "code",
   "execution_count": 33,
   "metadata": {},
   "outputs": [],
   "source": [
    "def getStats(folder):\n",
    "    if folder == 'train':\n",
    "        folder = '../imgs/train'\n",
    "    elif folder == 'test':\n",
    "        folder = '../imgs/test'\n",
    "        \n",
    "    print('[INFO] Total No. of Classes {}'.format(len(os.listdir(folder))))\n",
    "    print(os.listdir(folder))\n",
    "    totalNum = len(getAllFiles(folder))\n",
    "    print('[INFO] Total No. of Files: {}\\n'.format(totalNum))\n",
    "    \n",
    "    lenFiles = {}\n",
    "    for subfolder in os.listdir(folder):\n",
    "        src = os.path.join(folder, subfolder)\n",
    "        numFiles = len(getAllFiles(src))\n",
    "        lenFiles[subfolder] = numFiles\n",
    "        print('[INFO] Class {} has {} files'.format(subfolder, numFiles))\n",
    "        \n",
    "    return lenFiles"
   ]
  },
  {
   "cell_type": "code",
   "execution_count": 40,
   "metadata": {},
   "outputs": [
    {
     "name": "stdout",
     "output_type": "stream",
     "text": [
      "[INFO] Total No. of Classes 53\n",
      "['$', ')', 'L', 'H', 'N', '2', 'I', 'D', 'b', '1', 'f', 'J', 'E', 'Y', 'h', 'e', '7', '@', 'C', 'r', '#', 'F', 'q', 'X', 'P', '(', '0', 'A', '6', 'O', 'W', 'U', 'T', '9', 'M', 'R', 'V', 'G', 'B', '5', 't', '3', '8', 'a', '4', 'slash', 'Z', 'Q', 'n', 'K', 'g', 'd', 'S']\n",
      "[INFO] Total No. of Files: 20067\n",
      "\n",
      "[INFO] Class $ has 400 files\n",
      "[INFO] Class ) has 35 files\n",
      "[INFO] Class L has 400 files\n",
      "[INFO] Class H has 400 files\n",
      "[INFO] Class N has 400 files\n",
      "[INFO] Class 2 has 400 files\n",
      "[INFO] Class I has 400 files\n",
      "[INFO] Class D has 400 files\n",
      "[INFO] Class b has 400 files\n",
      "[INFO] Class 1 has 400 files\n",
      "[INFO] Class f has 400 files\n",
      "[INFO] Class J has 400 files\n",
      "[INFO] Class E has 400 files\n",
      "[INFO] Class Y has 400 files\n",
      "[INFO] Class h has 400 files\n",
      "[INFO] Class e has 400 files\n",
      "[INFO] Class 7 has 400 files\n",
      "[INFO] Class @ has 400 files\n",
      "[INFO] Class C has 400 files\n",
      "[INFO] Class r has 400 files\n",
      "[INFO] Class # has 400 files\n",
      "[INFO] Class F has 400 files\n",
      "[INFO] Class q has 399 files\n",
      "[INFO] Class X has 400 files\n",
      "[INFO] Class P has 400 files\n",
      "[INFO] Class ( has 34 files\n",
      "[INFO] Class 0 has 399 files\n",
      "[INFO] Class A has 400 files\n",
      "[INFO] Class 6 has 400 files\n",
      "[INFO] Class O has 400 files\n",
      "[INFO] Class W has 400 files\n",
      "[INFO] Class U has 400 files\n",
      "[INFO] Class T has 400 files\n",
      "[INFO] Class 9 has 400 files\n",
      "[INFO] Class M has 400 files\n",
      "[INFO] Class R has 400 files\n",
      "[INFO] Class V has 400 files\n",
      "[INFO] Class G has 400 files\n",
      "[INFO] Class B has 400 files\n",
      "[INFO] Class 5 has 400 files\n",
      "[INFO] Class t has 400 files\n",
      "[INFO] Class 3 has 400 files\n",
      "[INFO] Class 8 has 400 files\n",
      "[INFO] Class a has 400 files\n",
      "[INFO] Class 4 has 400 files\n",
      "[INFO] Class slash has 0 files\n",
      "[INFO] Class Z has 400 files\n",
      "[INFO] Class Q has 400 files\n",
      "[INFO] Class n has 400 files\n",
      "[INFO] Class K has 400 files\n",
      "[INFO] Class g has 400 files\n",
      "[INFO] Class d has 400 files\n",
      "[INFO] Class S has 400 files\n"
     ]
    },
    {
     "data": {
      "image/png": "[encoded data removed]",
      "text/plain": [
       "<Figure size 720x720 with 1 Axes>"
      ]
     },
     "metadata": {
      "needs_background": "light"
     },
     "output_type": "display_data"
    }
   ],
   "source": [
    "lenFiles = getStats('test')\n",
    "plt.figure(figsize=(10,10))\n",
    "plt.bar(range(len(lenFiles)), list(lenFiles.values()), align='center')\n",
    "plt.xticks(range(len(lenFiles)), list(lenFiles.keys()))\n",
    "plt.show()"
   ]
  },
  {
   "cell_type": "code",
   "execution_count": null,
   "metadata": {},
   "outputs": [],
   "source": []
  }
 ],
 "metadata": {
  "kernelspec": {
   "display_name": "Python 3",
   "language": "python",
   "name": "python3"
  },
  "language_info": {
   "codemirror_mode": {
    "name": "ipython",
    "version": 3
   },
   "file_extension": ".py",
   "mimetype": "text/x-python",
   "name": "python",
   "nbconvert_exporter": "python",
   "pygments_lexer": "ipython3",
   "version": "3.5.2"
  }
 },
 "nbformat": 4,
 "nbformat_minor": 2
}
