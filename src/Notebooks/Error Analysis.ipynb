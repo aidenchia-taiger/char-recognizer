{
 "cells": [
  {
   "cell_type": "markdown",
   "metadata": {},
   "source": [
    "## Background"
   ]
  },
  {
   "cell_type": "markdown",
   "metadata": {},
   "source": [
    "This notebook can be used to analyze the errors made by a model."
   ]
  },
  {
   "cell_type": "code",
   "execution_count": null,
   "metadata": {},
   "outputs": [],
   "source": [
    "!ls"
   ]
  },
  {
   "cell_type": "markdown",
   "metadata": {},
   "source": [
    "## Imports"
   ]
  },
  {
   "cell_type": "code",
   "execution_count": 1,
   "metadata": {},
   "outputs": [
    {
     "name": "stderr",
     "output_type": "stream",
     "text": [
      "Using TensorFlow backend.\n"
     ]
    }
   ],
   "source": [
    "from Model import ModelFactory\n",
    "from Utils import display, save\n",
    "import keras\n",
    "from keras.preprocessing.image import ImageDataGenerator\n",
    "from keras.models import load_model\n",
    "from Segmenter import Segmenter\n",
    "from Tesseract_TextDetector import TextDetector\n",
    "import matplotlib.pyplot as plt\n",
    "import numpy as np\n",
    "import pandas as pd\n",
    "from sklearn.metrics import confusion_matrix\n",
    "import sys\n",
    "import numpy\n",
    "import cv2\n",
    "import os\n",
    "numpy.set_printoptions(threshold=sys.maxsize)\n",
    "%load_ext autoreload\n",
    "%autoreload 2"
   ]
  },
  {
   "cell_type": "markdown",
   "metadata": {
    "heading_collapsed": true
   },
   "source": [
    "## Load Model"
   ]
  },
  {
   "cell_type": "code",
   "execution_count": 2,
   "metadata": {
    "hidden": true
   },
   "outputs": [
    {
     "name": "stdout",
     "output_type": "stream",
     "text": [
      "_________________________________________________________________\n",
      "Layer (type)                 Output Shape              Param #   \n",
      "=================================================================\n",
      "input_1 (InputLayer)         (None, 28, 28, 1)         0         \n",
      "_________________________________________________________________\n",
      "conv2d_1 (Conv2D)            (None, 28, 28, 8)         80        \n",
      "_________________________________________________________________\n",
      "batch_normalization_1 (Batch (None, 28, 28, 8)         32        \n",
      "_________________________________________________________________\n",
      "activation_1 (Activation)    (None, 28, 28, 8)         0         \n",
      "_________________________________________________________________\n",
      "max_pooling2d_1 (MaxPooling2 (None, 14, 14, 8)         0         \n",
      "_________________________________________________________________\n",
      "conv2d_2 (Conv2D)            (None, 14, 14, 16)        1168      \n",
      "_________________________________________________________________\n",
      "batch_normalization_2 (Batch (None, 14, 14, 16)        64        \n",
      "_________________________________________________________________\n",
      "activation_2 (Activation)    (None, 14, 14, 16)        0         \n",
      "_________________________________________________________________\n",
      "max_pooling2d_2 (MaxPooling2 (None, 7, 7, 16)          0         \n",
      "_________________________________________________________________\n",
      "conv2d_3 (Conv2D)            (None, 7, 7, 32)          4640      \n",
      "_________________________________________________________________\n",
      "batch_normalization_3 (Batch (None, 7, 7, 32)          128       \n",
      "_________________________________________________________________\n",
      "activation_3 (Activation)    (None, 7, 7, 32)          0         \n",
      "_________________________________________________________________\n",
      "max_pooling2d_3 (MaxPooling2 (None, 3, 3, 32)          0         \n",
      "_________________________________________________________________\n",
      "conv2d_4 (Conv2D)            (None, 3, 3, 64)          51264     \n",
      "_________________________________________________________________\n",
      "batch_normalization_4 (Batch (None, 3, 3, 64)          256       \n",
      "_________________________________________________________________\n",
      "activation_4 (Activation)    (None, 3, 3, 64)          0         \n",
      "_________________________________________________________________\n",
      "max_pooling2d_4 (MaxPooling2 (None, 3, 3, 64)          0         \n",
      "_________________________________________________________________\n",
      "conv2d_5 (Conv2D)            (None, 3, 3, 128)         204928    \n",
      "_________________________________________________________________\n",
      "batch_normalization_5 (Batch (None, 3, 3, 128)         512       \n",
      "_________________________________________________________________\n",
      "activation_5 (Activation)    (None, 3, 3, 128)         0         \n",
      "_________________________________________________________________\n",
      "max_pooling2d_5 (MaxPooling2 (None, 3, 3, 128)         0         \n",
      "_________________________________________________________________\n",
      "conv2d_6 (Conv2D)            (None, 3, 3, 256)         819456    \n",
      "_________________________________________________________________\n",
      "batch_normalization_6 (Batch (None, 3, 3, 256)         1024      \n",
      "_________________________________________________________________\n",
      "activation_6 (Activation)    (None, 3, 3, 256)         0         \n",
      "_________________________________________________________________\n",
      "max_pooling2d_6 (MaxPooling2 (None, 3, 3, 256)         0         \n",
      "_________________________________________________________________\n",
      "flatten_1 (Flatten)          (None, 2304)              0         \n",
      "_________________________________________________________________\n",
      "dense_1 (Dense)              (None, 128)               295040    \n",
      "_________________________________________________________________\n",
      "dropout_1 (Dropout)          (None, 128)               0         \n",
      "_________________________________________________________________\n",
      "dense_2 (Dense)              (None, 53)                6837      \n",
      "=================================================================\n",
      "Total params: 1,385,429\n",
      "Trainable params: 1,384,421\n",
      "Non-trainable params: 1,008\n",
      "_________________________________________________________________\n",
      "None\n"
     ]
    }
   ],
   "source": [
    "model = load_model('../models/beta.h5')\n",
    "print(model.summary())"
   ]
  },
  {
   "cell_type": "code",
   "execution_count": 3,
   "metadata": {
    "hidden": true
   },
   "outputs": [
    {
     "name": "stdout",
     "output_type": "stream",
     "text": [
      "[INFO] kernelVals: [3, 3, 3, 5, 5, 5]\n",
      "[INFO] trainDir: ../imgs/train\n",
      "[INFO] numEpochs: 50\n",
      "[INFO] testDir: ../imgs/test\n",
      "[INFO] savepath: ../models/beta.h5\n",
      "[INFO] mapping: {0: '#', 1: '$', 2: '(', 3: ')', 4: '0', 5: '1', 6: '2', 7: '3', 8: '4', 9: '5', 10: '6', 11: '7', 12: '8', 13: '9', 14: '@', 15: 'A', 16: 'B', 17: 'C', 18: 'D', 19: 'E', 20: 'F', 21: 'G', 22: 'H', 23: 'I', 24: 'J', 25: 'K', 26: 'L', 27: 'M', 28: 'N', 29: 'O', 30: 'P', 31: 'Q', 32: 'R', 33: 'S', 34: 'T', 35: 'U', 36: 'V', 37: 'W', 38: 'X', 39: 'Y', 40: 'Z', 41: 'a', 42: 'b', 43: 'd', 44: 'e', 45: 'f', 46: 'g', 47: 'h', 48: 'n', 49: 'q', 50: 'r', 51: 'slash', 52: 't'}\n",
      "[INFO] numFilters: [8, 16, 32, 64, 128, 256]\n",
      "[INFO] imgSize: (28, 28, 1)\n",
      "[INFO] validDir: ../imgs/validation\n",
      "[INFO] minConfidence: 0.5\n",
      "[INFO] dropoutRatio: 0.0\n",
      "[INFO] learningRate: 0.01\n",
      "[INFO] modelName: beta\n",
      "[INFO] numClasses: 53\n",
      "[INFO] batchSize: 32\n",
      "[INFO] logpath: ../logs/Time_1551_Date_18-07Model_beta\n",
      "[INFO] strideVals: [1, 1, 1, 1, 1, 1]\n",
      "[INFO] poolVals: [2, 2, 2, 1, 1, 1]\n"
     ]
    }
   ],
   "source": [
    "mf = ModelFactory('betaconfig.json')"
   ]
  },
  {
   "cell_type": "markdown",
   "metadata": {},
   "source": [
    "## Load Data"
   ]
  },
  {
   "cell_type": "markdown",
   "metadata": {},
   "source": [
    "### Define Generator"
   ]
  },
  {
   "cell_type": "code",
   "execution_count": 42,
   "metadata": {},
   "outputs": [],
   "source": [
    "valid_datagen = ImageDataGenerator(rescale=1./255)"
   ]
  },
  {
   "cell_type": "code",
   "execution_count": 43,
   "metadata": {},
   "outputs": [
    {
     "name": "stdout",
     "output_type": "stream",
     "text": [
      "Found 12163 images belonging to 53 classes.\n"
     ]
    }
   ],
   "source": [
    "valid_generator = valid_datagen.flow_from_directory('../imgs/validation', \n",
    "                                                    target_size = (28, 28),\n",
    "                                                    batch_size= 1, \n",
    "                                                    color_mode='grayscale',\n",
    "                                                    class_mode='categorical', \n",
    "                                                    shuffle=False)"
   ]
  },
  {
   "cell_type": "markdown",
   "metadata": {
    "heading_collapsed": true
   },
   "source": [
    "### Display Some Data"
   ]
  },
  {
   "cell_type": "code",
   "execution_count": null,
   "metadata": {
    "hidden": true
   },
   "outputs": [],
   "source": [
    "img, y = valid_generator.next()\n",
    "display(img)"
   ]
  },
  {
   "cell_type": "markdown",
   "metadata": {},
   "source": [
    "## Evaluate Model"
   ]
  },
  {
   "cell_type": "markdown",
   "metadata": {},
   "source": [
    "### Get Overall Accuracy"
   ]
  },
  {
   "cell_type": "code",
   "execution_count": null,
   "metadata": {},
   "outputs": [],
   "source": [
    "model.metrics_names"
   ]
  },
  {
   "cell_type": "code",
   "execution_count": null,
   "metadata": {},
   "outputs": [],
   "source": [
    "loss, acc = model.evaluate_generator(valid_generator, steps=len(valid_generator), verbose=1)\n",
    "print('Loss: ', loss)\n",
    "print('Accuracy: ', acc)"
   ]
  },
  {
   "cell_type": "code",
   "execution_count": null,
   "metadata": {},
   "outputs": [],
   "source": [
    "print(mf.mapping)"
   ]
  },
  {
   "cell_type": "markdown",
   "metadata": {},
   "source": [
    "### Get Class Predictions"
   ]
  },
  {
   "cell_type": "code",
   "execution_count": 44,
   "metadata": {},
   "outputs": [
    {
     "name": "stdout",
     "output_type": "stream",
     "text": [
      "12163/12163 [==============================] - 127s 10ms/step\n"
     ]
    }
   ],
   "source": [
    "pred = model.predict_generator(valid_generator, steps=len(valid_generator), verbose=1)\n",
    "np.save('modified_predictions.npy', pred)"
   ]
  },
  {
   "cell_type": "code",
   "execution_count": 59,
   "metadata": {},
   "outputs": [],
   "source": [
    "pred = np.load('modified_predictions.npy')"
   ]
  },
  {
   "cell_type": "code",
   "execution_count": 60,
   "metadata": {},
   "outputs": [
    {
     "name": "stdout",
     "output_type": "stream",
     "text": [
      "12163\n"
     ]
    }
   ],
   "source": [
    "cls_pred = [ mf.mapping[x] for x in np.argmax(pred, axis=1)]\n",
    "print(len(cls_pred))"
   ]
  },
  {
   "cell_type": "markdown",
   "metadata": {},
   "source": [
    "### Get Class Labels"
   ]
  },
  {
   "cell_type": "code",
   "execution_count": 61,
   "metadata": {},
   "outputs": [
    {
     "name": "stdout",
     "output_type": "stream",
     "text": [
      "12163\n"
     ]
    }
   ],
   "source": [
    "i = 0\n",
    "cls_true = [mf.mapping[x] for x in valid_generator.classes]\n",
    "print(len(cls_true))"
   ]
  },
  {
   "cell_type": "code",
   "execution_count": 62,
   "metadata": {},
   "outputs": [
    {
     "name": "stdout",
     "output_type": "stream",
     "text": [
      "0.8853901175696786\n"
     ]
    }
   ],
   "source": [
    "from sklearn.metrics import accuracy_score, classification_report \n",
    "print(accuracy_score(cls_true, cls_pred))"
   ]
  },
  {
   "cell_type": "code",
   "execution_count": 54,
   "metadata": {
    "scrolled": true
   },
   "outputs": [
    {
     "name": "stdout",
     "output_type": "stream",
     "text": [
      "              precision    recall  f1-score   support\n",
      "\n",
      "           #       0.99      1.00      1.00       240\n",
      "           $       0.99      1.00      1.00       240\n",
      "           (       0.93      0.87      0.90        31\n",
      "           )       0.97      1.00      0.98        32\n",
      "           0       0.64      0.71      0.67       240\n",
      "           1       0.51      0.74      0.61       245\n",
      "           2       0.86      0.86      0.86       245\n",
      "           3       0.96      0.96      0.96       240\n",
      "           4       0.93      0.89      0.91       240\n",
      "           5       0.90      0.92      0.91       240\n",
      "           6       0.93      0.90      0.91       240\n",
      "           7       0.99      0.97      0.98       240\n",
      "           8       0.92      0.93      0.93       250\n",
      "           9       0.70      0.84      0.76       240\n",
      "           @       1.00      0.97      0.99       240\n",
      "           A       0.96      0.96      0.96       240\n",
      "           B       0.96      0.96      0.96       240\n",
      "           C       0.93      0.94      0.94       240\n",
      "           D       0.89      0.94      0.92       245\n",
      "           E       0.95      0.98      0.96       245\n",
      "           F       0.81      0.51      0.63       240\n",
      "           G       0.91      0.94      0.92       240\n",
      "           H       0.94      0.96      0.95       245\n",
      "           I       0.65      0.64      0.65       245\n",
      "           J       0.91      0.94      0.93       251\n",
      "           K       0.97      0.97      0.97       240\n",
      "           L       0.64      0.37      0.47       245\n",
      "           M       0.93      1.00      0.96       240\n",
      "           N       0.97      0.96      0.96       245\n",
      "           O       0.72      0.58      0.65       240\n",
      "           P       0.98      0.97      0.98       240\n",
      "           Q       0.95      0.93      0.94       240\n",
      "           R       0.97      0.97      0.97       240\n",
      "           S       0.89      0.90      0.89       240\n",
      "           T       0.94      0.96      0.95       240\n",
      "           U       0.92      0.96      0.94       240\n",
      "           V       0.94      0.93      0.94       240\n",
      "           W       0.97      0.97      0.97       240\n",
      "           X       0.97      0.97      0.97       240\n",
      "           Y       0.86      0.93      0.89       251\n",
      "           Z       0.87      0.88      0.88       240\n",
      "           a       0.89      0.89      0.89       240\n",
      "           b       0.91      0.95      0.93       245\n",
      "           d       0.96      0.97      0.97       240\n",
      "           e       0.93      0.95      0.94       240\n",
      "           f       0.64      0.84      0.73       245\n",
      "           g       0.75      0.64      0.69       240\n",
      "           h       0.97      0.93      0.95       245\n",
      "           n       0.95      0.95      0.95       240\n",
      "           q       0.68      0.58      0.63       230\n",
      "           r       0.98      0.89      0.93       240\n",
      "       slash       0.96      0.96      0.96        23\n",
      "           t       0.93      0.94      0.94       240\n",
      "\n",
      "    accuracy                           0.89     12163\n",
      "   macro avg       0.89      0.89      0.89     12163\n",
      "weighted avg       0.89      0.89      0.88     12163\n",
      "\n"
     ]
    }
   ],
   "source": [
    "cr = classification_report(cls_true, cls_pred)\n",
    "print(cr)"
   ]
  },
  {
   "cell_type": "code",
   "execution_count": null,
   "metadata": {},
   "outputs": [],
   "source": [
    "def writeCR(cr, name):\n",
    "    idx = [mf.mapping[x] for x in range(53)]\n",
    "    df = pd.DataFrame(data=cr, index=idx, columns=['precision', 'recall', 'f1-score', 'support'])\n",
    "    #df.to_csv('../analysis/' + name + '.csv')"
   ]
  },
  {
   "cell_type": "code",
   "execution_count": 48,
   "metadata": {},
   "outputs": [],
   "source": [
    "mapAmbig = {'0': 'O', 'I': '1', 'q':'9', 'L': '1', 'f': 'F'}"
   ]
  },
  {
   "cell_type": "code",
   "execution_count": 49,
   "metadata": {},
   "outputs": [],
   "source": [
    "def changeLabels(cls_pred):\n",
    "    cls_pred = [mapAmbig[x] if x in mapAmbig.keys() else x for x in cls_pred]\n",
    "    return cls_pred"
   ]
  },
  {
   "cell_type": "code",
   "execution_count": 50,
   "metadata": {},
   "outputs": [],
   "source": [
    "modified_cls_pred = changeLabels(cls_pred)"
   ]
  },
  {
   "cell_type": "code",
   "execution_count": 51,
   "metadata": {},
   "outputs": [],
   "source": [
    "modified_cls_true = changeLabels(cls_true)"
   ]
  },
  {
   "cell_type": "code",
   "execution_count": 52,
   "metadata": {},
   "outputs": [
    {
     "name": "stdout",
     "output_type": "stream",
     "text": [
      "0.937433199046288\n"
     ]
    }
   ],
   "source": [
    "print(accuracy_score(modified_cls_true, modified_cls_pred))"
   ]
  },
  {
   "cell_type": "code",
   "execution_count": 53,
   "metadata": {},
   "outputs": [
    {
     "name": "stdout",
     "output_type": "stream",
     "text": [
      "              precision    recall  f1-score   support\n",
      "\n",
      "           #       0.99      1.00      1.00       240\n",
      "           $       0.99      1.00      1.00       240\n",
      "           (       0.93      0.87      0.90        31\n",
      "           )       0.97      1.00      0.98        32\n",
      "           1       0.96      0.96      0.96       735\n",
      "           2       0.86      0.86      0.86       245\n",
      "           3       0.96      0.96      0.96       240\n",
      "           4       0.93      0.89      0.91       240\n",
      "           5       0.90      0.92      0.91       240\n",
      "           6       0.93      0.90      0.91       240\n",
      "           7       0.99      0.97      0.98       240\n",
      "           8       0.92      0.93      0.93       250\n",
      "           9       0.85      0.88      0.87       470\n",
      "           @       1.00      0.97      0.99       240\n",
      "           A       0.96      0.96      0.96       240\n",
      "           B       0.96      0.96      0.96       240\n",
      "           C       0.93      0.94      0.94       240\n",
      "           D       0.89      0.94      0.92       245\n",
      "           E       0.95      0.98      0.96       245\n",
      "           F       0.99      0.96      0.97       485\n",
      "           G       0.91      0.94      0.92       240\n",
      "           H       0.94      0.96      0.95       245\n",
      "           J       0.91      0.94      0.93       251\n",
      "           K       0.97      0.97      0.97       240\n",
      "           M       0.93      1.00      0.96       240\n",
      "           N       0.97      0.96      0.96       245\n",
      "           O       0.97      0.93      0.95       480\n",
      "           P       0.98      0.97      0.98       240\n",
      "           Q       0.95      0.93      0.94       240\n",
      "           R       0.97      0.97      0.97       240\n",
      "           S       0.89      0.90      0.89       240\n",
      "           T       0.94      0.96      0.95       240\n",
      "           U       0.92      0.96      0.94       240\n",
      "           V       0.94      0.93      0.94       240\n",
      "           W       0.97      0.97      0.97       240\n",
      "           X       0.97      0.97      0.97       240\n",
      "           Y       0.86      0.93      0.89       251\n",
      "           Z       0.87      0.88      0.88       240\n",
      "           a       0.89      0.89      0.89       240\n",
      "           b       0.91      0.95      0.93       245\n",
      "           d       0.96      0.97      0.97       240\n",
      "           e       0.93      0.95      0.94       240\n",
      "           g       0.75      0.64      0.69       240\n",
      "           h       0.97      0.93      0.95       245\n",
      "           n       0.95      0.95      0.95       240\n",
      "           r       0.98      0.89      0.93       240\n",
      "       slash       0.96      0.96      0.96        23\n",
      "           t       0.93      0.94      0.94       240\n",
      "\n",
      "    accuracy                           0.94     12163\n",
      "   macro avg       0.94      0.94      0.94     12163\n",
      "weighted avg       0.94      0.94      0.94     12163\n",
      "\n"
     ]
    }
   ],
   "source": [
    "modified_cr = classification_report(modified_cls_true, modified_cls_pred)\n",
    "print(modified_cr)"
   ]
  },
  {
   "cell_type": "code",
   "execution_count": null,
   "metadata": {},
   "outputs": [],
   "source": [
    "writeCR(modified_cr, 'beta_ModifiedClassificationReport')"
   ]
  },
  {
   "cell_type": "markdown",
   "metadata": {},
   "source": [
    "### Plot Confusion Matrix"
   ]
  },
  {
   "cell_type": "code",
   "execution_count": null,
   "metadata": {},
   "outputs": [],
   "source": [
    "def plot_confusion_matrix(cls_pred, cls_true, num_classes, width=27, height=18, save=False, name=None): \n",
    "    # Get the confusion matrix using sklearn.\n",
    "    cm = confusion_matrix(y_true=cls_true,\n",
    "                          y_pred=cls_pred)\n",
    "    \n",
    "    # Set plot width and height\n",
    "    plt.rcParams[\"figure.figsize\"] = [width, height]\n",
    "\n",
    "    # Plot the confusion matrix as an image.\n",
    "    plt.matshow(cm)\n",
    "    \n",
    "    # Get labels\n",
    "    idx = [mf.mapping[x] for x in range(53)]\n",
    "    \n",
    "    # Make various adjustments to the plot.\n",
    "    plt.colorbar()\n",
    "    plt.grid()\n",
    "    tick_marks = np.arange(num_classes)\n",
    "    plt.xticks(tick_marks, idx)\n",
    "    plt.yticks(tick_marks, idx)\n",
    "    plt.xlabel('Predicted')\n",
    "    plt.ylabel('True')\n",
    "\n",
    "    if save:\n",
    "        plt.savefig('../analysis/' + name + '.png')\n",
    "    # Ensure the plot is shown correctly with multiple plots\n",
    "    # in a single Notebook cell.\n",
    "    plt.show()"
   ]
  },
  {
   "cell_type": "code",
   "execution_count": null,
   "metadata": {},
   "outputs": [],
   "source": [
    "plot_confusion_matrix(cls_pred, cls_true, 53, save=True)"
   ]
  },
  {
   "cell_type": "markdown",
   "metadata": {},
   "source": [
    "**Error Classifications:**    \n",
    "GT -> PRED     \n",
    "(Unreasonable, Common)\n",
    "- 'g' -> '8'\n",
    "- 'q' -> '8'\n",
    "- 'q' -> 'g'\n",
    "- 'S' -> '5'\n",
    "- 'g' -> 'G'\n",
    "\n",
    "(Reasonable, Common)\n",
    "- 'O' -> '0'\n",
    "- 'L' -> '1'\n",
    "- 'I' -> '1'\n",
    "- 'G' -> '6'\n",
    "- 'Z' -> '2'\n",
    "- 'g' -> '9'\n",
    "- 'f' -> 'F'\n",
    "- 't' -> 'T'\n",
    "\n",
    "(Unreasonable, Uncommon)\n",
    "- 'a' -> '2'\n",
    "- 'a' -> 'A'\n",
    "- 'q' -> '2'\n",
    "- 'q' -> '4'\n",
    "- 'r' -> '4'\n",
    "- 'r' -> '5'"
   ]
  },
  {
   "cell_type": "code",
   "execution_count": null,
   "metadata": {},
   "outputs": [],
   "source": [
    "confusionMatrix.to_csv('ConfusionMatrix.csv')"
   ]
  },
  {
   "cell_type": "markdown",
   "metadata": {},
   "source": [
    "### Compute Statistics"
   ]
  },
  {
   "cell_type": "code",
   "execution_count": null,
   "metadata": {},
   "outputs": [],
   "source": [
    "numCorrectPerClass = np.diag(confusionMatrix)"
   ]
  },
  {
   "cell_type": "code",
   "execution_count": null,
   "metadata": {},
   "outputs": [],
   "source": [
    "totalNumPerClass = confusionMatrix.sum(axis=0)"
   ]
  },
  {
   "cell_type": "code",
   "execution_count": null,
   "metadata": {},
   "outputs": [],
   "source": [
    "errorContributionPerClass = (totalNumPerClass - numCorrectPerClass) * 100 / totalNumPerClass"
   ]
  },
  {
   "cell_type": "markdown",
   "metadata": {},
   "source": [
    "### Visualize Errors"
   ]
  },
  {
   "cell_type": "code",
   "execution_count": null,
   "metadata": {},
   "outputs": [],
   "source": [
    "def getCorrectImgs(cls_pred, cls_true, pred_label, true_label):\n",
    "    correctIdxs = []\n",
    "    for i in range(len(cls_pred)):\n",
    "        if cls_true[i] == true_label and cls_pred[i] == true_label:\n",
    "            correctIdxs.append(i)\n",
    "            \n",
    "    imgs = np.array([cv2.imread(valid_generator.filepaths[x], cv2.IMREAD_GRAYSCALE) for x in correctIdxs])  \n",
    "    display(imgs[0:9], multiple=True, rows=3, cols=3)\n",
    "    return imgs\n"
   ]
  },
  {
   "cell_type": "code",
   "execution_count": null,
   "metadata": {},
   "outputs": [],
   "source": [
    "correctImgs = getCorrectImgs(cls_pred, cls_true, 'q', '8')"
   ]
  },
  {
   "cell_type": "code",
   "execution_count": null,
   "metadata": {},
   "outputs": [],
   "source": [
    "preprocessedImg = mf.preprocess(correctImgs[0], show=False, minBlack=0, invert=False)\n",
    "model.predict(preprocessedImg)"
   ]
  },
  {
   "cell_type": "code",
   "execution_count": 40,
   "metadata": {},
   "outputs": [],
   "source": [
    "def getMisclassifiedImgs(cls_pred, cls_true, pred_label, true_label):   \n",
    "    # Get all misclassified (error) indexes\n",
    "    errorIdxs = []\n",
    "    if pred_label == None:\n",
    "        for i in range(len(cls_pred)):\n",
    "            if cls_true[i] == true_label and cls_pred[i] != true_label:\n",
    "                errorIdxs.append(i)\n",
    "    else:\n",
    "        for i in range(len(cls_pred)):\n",
    "            if cls_true[i] == true_label and cls_pred[i] == pred_label:\n",
    "                errorIdxs.append(i)\n",
    "\n",
    "    print(\"No. of '{}' misclassified as '{}' = {}\".format(true_label, pred_label ,len(errorIdxs)))\n",
    "    \n",
    "    errorImgpaths = [valid_generator.filepaths[x] for x in errorIdxs]\n",
    "    print(errorImgpaths)\n",
    "    errorImgs = np.array([cv2.imread(x, cv2.IMREAD_GRAYSCALE) for x in errorImgpaths])\n",
    "    if len(errorImgs) % 2 == 0:\n",
    "        rows = 2\n",
    "        cols = int(len(errorImgs) / 2)\n",
    "        display(errorImgs, multiple=True, rows=rows, cols=cols)\n",
    "    \n",
    "    else:\n",
    "        for img in errorImgs:\n",
    "            display(img)\n",
    "        \n",
    "    return errorImgs, errorImgpaths"
   ]
  },
  {
   "cell_type": "code",
   "execution_count": 41,
   "metadata": {
    "scrolled": true
   },
   "outputs": [
    {
     "name": "stdout",
     "output_type": "stream",
     "text": [
      "No. of 'S' misclassified as '5' = 17\n",
      "['../imgs/validation/S/EMNIST_104876.png', '../imgs/validation/S/EMNIST_108599.png', '../imgs/validation/S/EMNIST_108637.png', '../imgs/validation/S/EMNIST_11105.png', '../imgs/validation/S/EMNIST_2430.png', '../imgs/validation/S/EMNIST_30802.png', '../imgs/validation/S/EMNIST_31383.png', '../imgs/validation/S/EMNIST_36246.png', '../imgs/validation/S/EMNIST_3896.png', '../imgs/validation/S/EMNIST_49838.png', '../imgs/validation/S/EMNIST_51524.png', '../imgs/validation/S/EMNIST_53692.png', '../imgs/validation/S/EMNIST_5492.png', '../imgs/validation/S/EMNIST_55714.png', '../imgs/validation/S/EMNIST_58662.png', '../imgs/validation/S/EMNIST_61566.png', '../imgs/validation/S/EMNIST_8042.png']\n"
     ]
    },
    {
     "data": {
      "image/png": "[encoded data removed]",
      "text/plain": [
       "<Figure size 648x432 with 1 Axes>"
      ]
     },
     "metadata": {
      "needs_background": "light"
     },
     "output_type": "display_data"
    },
    {
     "data": {
      "image/png": "[encoded data removed]",
      "text/plain": [
       "<Figure size 648x432 with 1 Axes>"
      ]
     },
     "metadata": {
      "needs_background": "light"
     },
     "output_type": "display_data"
    },
    {
     "data": {
      "image/png": "[encoded data removed]",
      "text/plain": [
       "<Figure size 648x432 with 1 Axes>"
      ]
     },
     "metadata": {
      "needs_background": "light"
     },
     "output_type": "display_data"
    },
    {
     "data": {
      "image/png": "[encoded data removed]",
      "text/plain": [
       "<Figure size 648x432 with 1 Axes>"
      ]
     },
     "metadata": {
      "needs_background": "light"
     },
     "output_type": "display_data"
    },
    {
     "data": {
      "image/png": "[encoded data removed]",
      "text/plain": [
       "<Figure size 648x432 with 1 Axes>"
      ]
     },
     "metadata": {
      "needs_background": "light"
     },
     "output_type": "display_data"
    },
    {
     "data": {
      "image/png": "[encoded data removed]",
      "text/plain": [
       "<Figure size 648x432 with 1 Axes>"
      ]
     },
     "metadata": {
      "needs_background": "light"
     },
     "output_type": "display_data"
    },
    {
     "data": {
      "image/png": "[encoded data removed]",
      "text/plain": [
       "<Figure size 648x432 with 1 Axes>"
      ]
     },
     "metadata": {
      "needs_background": "light"
     },
     "output_type": "display_data"
    },
    {
     "data": {
      "image/png": "[encoded data removed]",
      "text/plain": [
       "<Figure size 648x432 with 1 Axes>"
      ]
     },
     "metadata": {
      "needs_background": "light"
     },
     "output_type": "display_data"
    },
    {
     "data": {
      "image/png": "[encoded data removed]",
      "text/plain": [
       "<Figure size 648x432 with 1 Axes>"
      ]
     },
     "metadata": {
      "needs_background": "light"
     },
     "output_type": "display_data"
    },
    {
     "data": {
      "image/png": "[encoded data removed]",
      "text/plain": [
       "<Figure size 648x432 with 1 Axes>"
      ]
     },
     "metadata": {
      "needs_background": "light"
     },
     "output_type": "display_data"
    },
    {
     "data": {
      "image/png": "[encoded data removed]",
      "text/plain": [
       "<Figure size 648x432 with 1 Axes>"
      ]
     },
     "metadata": {
      "needs_background": "light"
     },
     "output_type": "display_data"
    },
    {
     "data": {
      "image/png": "[encoded data removed]",
      "text/plain": [
       "<Figure size 648x432 with 1 Axes>"
      ]
     },
     "metadata": {
      "needs_background": "light"
     },
     "output_type": "display_data"
    },
    {
     "data": {
      "image/png": "[encoded data removed]",
      "text/plain": [
       "<Figure size 648x432 with 1 Axes>"
      ]
     },
     "metadata": {
      "needs_background": "light"
     },
     "output_type": "display_data"
    },
    {
     "data": {
      "image/png": "[encoded data removed]",
      "text/plain": [
       "<Figure size 648x432 with 1 Axes>"
      ]
     },
     "metadata": {
      "needs_background": "light"
     },
     "output_type": "display_data"
    },
    {
     "data": {
      "image/png": "[encoded data removed]",
      "text/plain": [
       "<Figure size 648x432 with 1 Axes>"
      ]
     },
     "metadata": {
      "needs_background": "light"
     },
     "output_type": "display_data"
    },
    {
     "data": {
      "image/png": "[encoded data removed]",
      "text/plain": [
       "<Figure size 648x432 with 1 Axes>"
      ]
     },
     "metadata": {
      "needs_background": "light"
     },
     "output_type": "display_data"
    },
    {
     "data": {
      "image/png": "[encoded data removed]",
      "text/plain": [
       "<Figure size 648x432 with 1 Axes>"
      ]
     },
     "metadata": {
      "needs_background": "light"
     },
     "output_type": "display_data"
    }
   ],
   "source": [
    "errorImgs, errorImgpaths = getMisclassifiedImgs(cls_pred, cls_true, '8', 'q')"
   ]
  },
  {
   "cell_type": "markdown",
   "metadata": {},
   "source": [
    "### Data Cleaning"
   ]
  },
  {
   "cell_type": "code",
   "execution_count": 36,
   "metadata": {},
   "outputs": [],
   "source": [
    "import os\n",
    "def countFiles(folder):\n",
    "    count = 0\n",
    "    for root, _, files in os.walk(folder):\n",
    "        for file in files:\n",
    "            if '.png' not in file:\n",
    "                continue\n",
    "            count += 1\n",
    "    print('No. of files in {}: {}'.format(folder, count))\n",
    "    return count"
   ]
  },
  {
   "cell_type": "code",
   "execution_count": 27,
   "metadata": {},
   "outputs": [
    {
     "name": "stdout",
     "output_type": "stream",
     "text": [
      "No. of files in ../imgs/validation/q: 240\n"
     ]
    }
   ],
   "source": [
    "countFiles('../imgs/validation/q')"
   ]
  },
  {
   "cell_type": "code",
   "execution_count": 33,
   "metadata": {},
   "outputs": [],
   "source": [
    "import shutil\n",
    "def moveFiles(src, dst, imgPaths):\n",
    "    initCountSrc = countFiles(src)\n",
    "    initCountDst = countFiles(dst)\n",
    "    \n",
    "    for i in imgPaths:\n",
    "        print('Moving file: {} to {}'.format(i, dst))\n",
    "        shutil.move(i, dst)\n",
    "            \n",
    "    finalCountSrc = countFiles(src)\n",
    "    finalCountDst = countFiles(dst)\n",
    "    \n",
    "    assert initCountSrc - finalCountSrc == finalCountDst - initCountDst == len(imgPaths)\n",
    "    assert os.path.isfile(os.path.join(dst, imgPaths[0]))"
   ]
  },
  {
   "cell_type": "code",
   "execution_count": 34,
   "metadata": {},
   "outputs": [
    {
     "name": "stdout",
     "output_type": "stream",
     "text": [
      "No. of files in ../imgs/validation/q: 240\n",
      "No. of files in ../imgs/validation/8: 240\n",
      "Moving file: ../imgs/validation/q/EMNIST_104952.png to ../imgs/validation/8\n",
      "Moving file: ../imgs/validation/q/EMNIST_29502.png to ../imgs/validation/8\n",
      "Moving file: ../imgs/validation/q/EMNIST_3490.png to ../imgs/validation/8\n",
      "Moving file: ../imgs/validation/q/EMNIST_36923.png to ../imgs/validation/8\n",
      "Moving file: ../imgs/validation/q/EMNIST_41258.png to ../imgs/validation/8\n",
      "Moving file: ../imgs/validation/q/EMNIST_50162.png to ../imgs/validation/8\n",
      "Moving file: ../imgs/validation/q/EMNIST_81250.png to ../imgs/validation/8\n",
      "Moving file: ../imgs/validation/q/EMNIST_83081.png to ../imgs/validation/8\n",
      "Moving file: ../imgs/validation/q/EMNIST_92476.png to ../imgs/validation/8\n",
      "Moving file: ../imgs/validation/q/EMNIST_92809.png to ../imgs/validation/8\n",
      "No. of files in ../imgs/validation/q: 230\n",
      "No. of files in ../imgs/validation/8: 250\n"
     ]
    },
    {
     "ename": "TypeError",
     "evalue": "unsupported operand type(s) for -: 'NoneType' and 'NoneType'",
     "output_type": "error",
     "traceback": [
      "\u001b[0;31m---------------------------------------------------------------------------\u001b[0m",
      "\u001b[0;31mTypeError\u001b[0m                                 Traceback (most recent call last)",
      "\u001b[0;32m<ipython-input-34-a0d80339dc67>\u001b[0m in \u001b[0;36m<module>\u001b[0;34m\u001b[0m\n\u001b[0;32m----> 1\u001b[0;31m \u001b[0mmoveFiles\u001b[0m\u001b[0;34m(\u001b[0m\u001b[0;34m'../imgs/validation/q'\u001b[0m\u001b[0;34m,\u001b[0m \u001b[0;34m'../imgs/validation/8'\u001b[0m\u001b[0;34m,\u001b[0m \u001b[0merrorImgpaths\u001b[0m\u001b[0;34m)\u001b[0m\u001b[0;34m\u001b[0m\u001b[0m\n\u001b[0m",
      "\u001b[0;32m<ipython-input-33-bba00af294fb>\u001b[0m in \u001b[0;36mmoveFiles\u001b[0;34m(src, dst, imgPaths)\u001b[0m\n\u001b[1;32m     11\u001b[0m     \u001b[0mfinalCountDst\u001b[0m \u001b[0;34m=\u001b[0m \u001b[0mcountFiles\u001b[0m\u001b[0;34m(\u001b[0m\u001b[0mdst\u001b[0m\u001b[0;34m)\u001b[0m\u001b[0;34m\u001b[0m\u001b[0m\n\u001b[1;32m     12\u001b[0m \u001b[0;34m\u001b[0m\u001b[0m\n\u001b[0;32m---> 13\u001b[0;31m     \u001b[0;32massert\u001b[0m \u001b[0minitCountSrc\u001b[0m \u001b[0;34m-\u001b[0m \u001b[0mfinalCountSrc\u001b[0m \u001b[0;34m==\u001b[0m \u001b[0mfinalCountDst\u001b[0m \u001b[0;34m-\u001b[0m \u001b[0minitCountDst\u001b[0m \u001b[0;34m==\u001b[0m \u001b[0mlen\u001b[0m\u001b[0;34m(\u001b[0m\u001b[0mimgPaths\u001b[0m\u001b[0;34m)\u001b[0m\u001b[0;34m\u001b[0m\u001b[0m\n\u001b[0m",
      "\u001b[0;31mTypeError\u001b[0m: unsupported operand type(s) for -: 'NoneType' and 'NoneType'"
     ]
    }
   ],
   "source": [
    "moveFiles('../imgs/validation/q', '../imgs/validation/8', errorImgpaths)"
   ]
  },
  {
   "cell_type": "code",
   "execution_count": null,
   "metadata": {},
   "outputs": [],
   "source": []
  },
  {
   "cell_type": "markdown",
   "metadata": {},
   "source": [
    "### View Saliency Maps"
   ]
  },
  {
   "cell_type": "code",
   "execution_count": null,
   "metadata": {
    "scrolled": true
   },
   "outputs": [],
   "source": [
    "model.summary()"
   ]
  },
  {
   "cell_type": "code",
   "execution_count": null,
   "metadata": {},
   "outputs": [],
   "source": [
    "!pip3 show keras_vis"
   ]
  },
  {
   "cell_type": "code",
   "execution_count": null,
   "metadata": {},
   "outputs": [],
   "source": [
    "from vis.visualization import visualize_cam, visualize_saliency, overlay"
   ]
  },
  {
   "cell_type": "code",
   "execution_count": null,
   "metadata": {},
   "outputs": [],
   "source": [
    "print(mf.mapping)"
   ]
  },
  {
   "cell_type": "code",
   "execution_count": null,
   "metadata": {},
   "outputs": [],
   "source": [
    "import matplotlib.cm as cm"
   ]
  },
  {
   "cell_type": "code",
   "execution_count": null,
   "metadata": {},
   "outputs": [],
   "source": [
    "layer_idx = -1\n",
    "penultimate_layer_idx = -5\n",
    "x_test = [mf.preprocess(x, show=False, minBlack=0, invert=False) for x in errorImgs]\n",
    "print(x_test[0].shape)"
   ]
  },
  {
   "cell_type": "code",
   "execution_count": null,
   "metadata": {},
   "outputs": [],
   "source": [
    "for idx in range(len(x_test)):\n",
    "    if idx == 5:\n",
    "        break\n",
    "    grads = visualize_saliency(model, layer_idx, filter_indices=4, \n",
    "                               seed_input=x_test[idx], backprop_modifier='guided')\n",
    "\n",
    "    f, ax = plt.subplots(1, 2)\n",
    "    ax[0].imshow(errorImgs[idx])\n",
    "    ax[1].imshow(grads, cmap='jet')"
   ]
  },
  {
   "cell_type": "code",
   "execution_count": null,
   "metadata": {
    "scrolled": true
   },
   "outputs": [],
   "source": [
    "for idx in range(len(x_test)):\n",
    "    if idx == 1:\n",
    "        break\n",
    "    f, ax = plt.subplots(1, 4)\n",
    "    ax[0].imshow(correctImgs[idx])\n",
    "\n",
    "    for i, modifier in enumerate([None, 'guided', 'relu']): \n",
    "        \n",
    "        grads = visualize_cam(model, layer_idx, \n",
    "                              filter_indices=4, \n",
    "                              \n",
    "                              seed_input=x_test[idx],\n",
    "                              backprop_modifier= modifier)\n",
    "        if modifier is None:\n",
    "            modifier = 'vanilla'\n",
    "\n",
    "        ax[i+1].set_title(modifier)\n",
    "        jet_heatmap = np.uint8(cm.jet(grads)[..., :3] * 255)\n",
    "#         import pdb\n",
    "#         pdb.set_trace()\n",
    "#         src = np.expand_dims(correctImgs[idx], axis=-1)\n",
    "#         print(jet_heatmap.shape)\n",
    "#         print(src.shape)\n",
    "        ax[i+1].imshow(overlay(jet_heatmap, cv2.cvtColor(np.expand_dims(correctImgs[idx], axis=-1), cv2.COLOR_GRAY2BGR)))\n",
    "\n",
    "    '''\n",
    "    f, ax = plt.subplots(1,2)\n",
    "    ax[0].imshow(correctImgs[idx])\n",
    "    ax[1].imshow(grads, cmap='jet')\n",
    "    '''"
   ]
  },
  {
   "cell_type": "code",
   "execution_count": null,
   "metadata": {},
   "outputs": [],
   "source": [
    "correctImgs[0].shape"
   ]
  },
  {
   "cell_type": "code",
   "execution_count": null,
   "metadata": {},
   "outputs": [],
   "source": [
    "help(visualize_cam)"
   ]
  },
  {
   "cell_type": "code",
   "execution_count": null,
   "metadata": {},
   "outputs": [],
   "source": [
    "from keras import activations\n",
    "from vis.utils import utils\n",
    "model.layers[layer_idx].activation = activations.softmax\n",
    "model = utils.apply_modifications(model)"
   ]
  },
  {
   "cell_type": "code",
   "execution_count": null,
   "metadata": {},
   "outputs": [],
   "source": []
  }
 ],
 "metadata": {
  "kernelspec": {
   "display_name": "Python 3",
   "language": "python",
   "name": "python3"
  },
  "language_info": {
   "codemirror_mode": {
    "name": "ipython",
    "version": 3
   },
   "file_extension": ".py",
   "mimetype": "text/x-python",
   "name": "python",
   "nbconvert_exporter": "python",
   "pygments_lexer": "ipython3",
   "version": "3.5.2"
  }
 },
 "nbformat": 4,
 "nbformat_minor": 2
}
